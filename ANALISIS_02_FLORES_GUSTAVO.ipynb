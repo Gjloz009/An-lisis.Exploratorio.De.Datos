{
 "cells": [
  {
   "cell_type": "code",
   "execution_count": 1,
   "metadata": {},
   "outputs": [],
   "source": [
    "import matplotlib.pyplot as plt #Importamos las librerias que se usan, en este caso unicamente, pandas y matplotlib\n",
    "import pandas as pd"
   ]
  },
  {
   "cell_type": "code",
   "execution_count": 2,
   "metadata": {},
   "outputs": [],
   "source": [
    "def ordenamiento(lista):  #hacemos una función que unicamente nos ordena una lista con el metodo bubuja\n",
    "    longitud=len(lista)-1\n",
    "    ordenado=False\n",
    "    while not ordenado: \n",
    "        ordenado=True \n",
    "        for i in range(0,longitud): \n",
    "            if lista[i][1]<lista[i+1][1]: \n",
    "                ordenado=False  \n",
    "                lista[i],lista[i+1]=lista[i+1],lista[i] \n",
    "        "
   ]
  },
  {
   "cell_type": "code",
   "execution_count": 3,
   "metadata": {},
   "outputs": [],
   "source": [
    "dataframe=pd.read_csv('synergy_logistics_database.csv') #importamos nuestra BD como un dataframe"
   ]
  },
  {
   "cell_type": "code",
   "execution_count": 4,
   "metadata": {},
   "outputs": [
    {
     "data": {
      "text/plain": [
       "register_id        int64\n",
       "direction         object\n",
       "origin            object\n",
       "destination       object\n",
       "year               int64\n",
       "date              object\n",
       "product           object\n",
       "transport_mode    object\n",
       "company_name      object\n",
       "total_value        int64\n",
       "dtype: object"
      ]
     },
     "execution_count": 4,
     "metadata": {},
     "output_type": "execute_result"
    }
   ],
   "source": [
    "dataframe.dtypes  #analizamos que tipo de variables tenemos dentro de cada columna.\n"
   ]
  },
  {
   "cell_type": "code",
   "execution_count": 5,
   "metadata": {},
   "outputs": [
    {
     "name": "stdout",
     "output_type": "stream",
     "text": [
      "<class 'pandas.core.frame.DataFrame'>\n",
      "RangeIndex: 19056 entries, 0 to 19055\n",
      "Data columns (total 10 columns):\n",
      "register_id       19056 non-null int64\n",
      "direction         19056 non-null object\n",
      "origin            19056 non-null object\n",
      "destination       19056 non-null object\n",
      "year              19056 non-null int64\n",
      "date              19056 non-null object\n",
      "product           19056 non-null object\n",
      "transport_mode    19056 non-null object\n",
      "company_name      19056 non-null object\n",
      "total_value       19056 non-null int64\n",
      "dtypes: int64(3), object(7)\n",
      "memory usage: 1.5+ MB\n"
     ]
    }
   ],
   "source": [
    "dataframe.info() #analizamos que tan grande es nuestra BD y si existen datos que nos pueden dar porblemas a la hora de tomar estadisitca basica.En este caso nada nos impide trabajar.\n"
   ]
  },
  {
   "cell_type": "code",
   "execution_count": 6,
   "metadata": {},
   "outputs": [
    {
     "data": {
      "text/html": [
       "<div>\n",
       "<style scoped>\n",
       "    .dataframe tbody tr th:only-of-type {\n",
       "        vertical-align: middle;\n",
       "    }\n",
       "\n",
       "    .dataframe tbody tr th {\n",
       "        vertical-align: top;\n",
       "    }\n",
       "\n",
       "    .dataframe thead th {\n",
       "        text-align: right;\n",
       "    }\n",
       "</style>\n",
       "<table border=\"1\" class=\"dataframe\">\n",
       "  <thead>\n",
       "    <tr style=\"text-align: right;\">\n",
       "      <th></th>\n",
       "      <th>register_id</th>\n",
       "      <th>direction</th>\n",
       "      <th>origin</th>\n",
       "      <th>destination</th>\n",
       "      <th>year</th>\n",
       "      <th>date</th>\n",
       "      <th>product</th>\n",
       "      <th>transport_mode</th>\n",
       "      <th>company_name</th>\n",
       "      <th>total_value</th>\n",
       "    </tr>\n",
       "  </thead>\n",
       "  <tbody>\n",
       "    <tr>\n",
       "      <th>0</th>\n",
       "      <td>1</td>\n",
       "      <td>Exports</td>\n",
       "      <td>Japan</td>\n",
       "      <td>China</td>\n",
       "      <td>2015</td>\n",
       "      <td>31/01/15</td>\n",
       "      <td>Cars</td>\n",
       "      <td>Sea</td>\n",
       "      <td>Honda</td>\n",
       "      <td>33000000</td>\n",
       "    </tr>\n",
       "    <tr>\n",
       "      <th>1</th>\n",
       "      <td>2</td>\n",
       "      <td>Exports</td>\n",
       "      <td>Japan</td>\n",
       "      <td>China</td>\n",
       "      <td>2015</td>\n",
       "      <td>01/02/15</td>\n",
       "      <td>Cars</td>\n",
       "      <td>Sea</td>\n",
       "      <td>Honda</td>\n",
       "      <td>16000000</td>\n",
       "    </tr>\n",
       "    <tr>\n",
       "      <th>2</th>\n",
       "      <td>3</td>\n",
       "      <td>Exports</td>\n",
       "      <td>Japan</td>\n",
       "      <td>China</td>\n",
       "      <td>2015</td>\n",
       "      <td>02/02/15</td>\n",
       "      <td>Cars</td>\n",
       "      <td>Sea</td>\n",
       "      <td>Honda</td>\n",
       "      <td>29000000</td>\n",
       "    </tr>\n",
       "    <tr>\n",
       "      <th>3</th>\n",
       "      <td>4</td>\n",
       "      <td>Exports</td>\n",
       "      <td>Japan</td>\n",
       "      <td>China</td>\n",
       "      <td>2015</td>\n",
       "      <td>03/02/15</td>\n",
       "      <td>Cars</td>\n",
       "      <td>Sea</td>\n",
       "      <td>Honda</td>\n",
       "      <td>14000000</td>\n",
       "    </tr>\n",
       "    <tr>\n",
       "      <th>4</th>\n",
       "      <td>5</td>\n",
       "      <td>Exports</td>\n",
       "      <td>Japan</td>\n",
       "      <td>China</td>\n",
       "      <td>2015</td>\n",
       "      <td>04/02/15</td>\n",
       "      <td>Cars</td>\n",
       "      <td>Sea</td>\n",
       "      <td>Honda</td>\n",
       "      <td>17000000</td>\n",
       "    </tr>\n",
       "  </tbody>\n",
       "</table>\n",
       "</div>"
      ],
      "text/plain": [
       "   register_id direction origin destination  year      date product  \\\n",
       "0            1   Exports  Japan       China  2015  31/01/15    Cars   \n",
       "1            2   Exports  Japan       China  2015  01/02/15    Cars   \n",
       "2            3   Exports  Japan       China  2015  02/02/15    Cars   \n",
       "3            4   Exports  Japan       China  2015  03/02/15    Cars   \n",
       "4            5   Exports  Japan       China  2015  04/02/15    Cars   \n",
       "\n",
       "  transport_mode company_name  total_value  \n",
       "0            Sea        Honda     33000000  \n",
       "1            Sea        Honda     16000000  \n",
       "2            Sea        Honda     29000000  \n",
       "3            Sea        Honda     14000000  \n",
       "4            Sea        Honda     17000000  "
      ]
     },
     "execution_count": 6,
     "metadata": {},
     "output_type": "execute_result"
    }
   ],
   "source": [
    "dataframe.head() #vemos como se compone nuestra base se datos con sus primeros 5 datos."
   ]
  },
  {
   "cell_type": "code",
   "execution_count": 7,
   "metadata": {},
   "outputs": [],
   "source": [
    "Exports=dataframe[dataframe['direction'].str.contains('Exports')] #Creamos dos bases de datos diferentes una donde tengamos unicamente exportaciones y una donde unicamente tenga \n",
    "Imports=dataframe[dataframe['direction'].str.contains('Imports')] #importaciones"
   ]
  },
  {
   "cell_type": "code",
   "execution_count": 8,
   "metadata": {},
   "outputs": [
    {
     "data": {
      "text/html": [
       "<div>\n",
       "<style scoped>\n",
       "    .dataframe tbody tr th:only-of-type {\n",
       "        vertical-align: middle;\n",
       "    }\n",
       "\n",
       "    .dataframe tbody tr th {\n",
       "        vertical-align: top;\n",
       "    }\n",
       "\n",
       "    .dataframe thead th {\n",
       "        text-align: right;\n",
       "    }\n",
       "</style>\n",
       "<table border=\"1\" class=\"dataframe\">\n",
       "  <thead>\n",
       "    <tr style=\"text-align: right;\">\n",
       "      <th></th>\n",
       "      <th>register_id</th>\n",
       "      <th>direction</th>\n",
       "      <th>origin</th>\n",
       "      <th>destination</th>\n",
       "      <th>year</th>\n",
       "      <th>date</th>\n",
       "      <th>product</th>\n",
       "      <th>transport_mode</th>\n",
       "      <th>company_name</th>\n",
       "      <th>total_value</th>\n",
       "    </tr>\n",
       "  </thead>\n",
       "  <tbody>\n",
       "    <tr>\n",
       "      <th>0</th>\n",
       "      <td>1</td>\n",
       "      <td>Exports</td>\n",
       "      <td>Japan</td>\n",
       "      <td>China</td>\n",
       "      <td>2015</td>\n",
       "      <td>31/01/15</td>\n",
       "      <td>Cars</td>\n",
       "      <td>Sea</td>\n",
       "      <td>Honda</td>\n",
       "      <td>33000000</td>\n",
       "    </tr>\n",
       "    <tr>\n",
       "      <th>1</th>\n",
       "      <td>2</td>\n",
       "      <td>Exports</td>\n",
       "      <td>Japan</td>\n",
       "      <td>China</td>\n",
       "      <td>2015</td>\n",
       "      <td>01/02/15</td>\n",
       "      <td>Cars</td>\n",
       "      <td>Sea</td>\n",
       "      <td>Honda</td>\n",
       "      <td>16000000</td>\n",
       "    </tr>\n",
       "    <tr>\n",
       "      <th>2</th>\n",
       "      <td>3</td>\n",
       "      <td>Exports</td>\n",
       "      <td>Japan</td>\n",
       "      <td>China</td>\n",
       "      <td>2015</td>\n",
       "      <td>02/02/15</td>\n",
       "      <td>Cars</td>\n",
       "      <td>Sea</td>\n",
       "      <td>Honda</td>\n",
       "      <td>29000000</td>\n",
       "    </tr>\n",
       "    <tr>\n",
       "      <th>3</th>\n",
       "      <td>4</td>\n",
       "      <td>Exports</td>\n",
       "      <td>Japan</td>\n",
       "      <td>China</td>\n",
       "      <td>2015</td>\n",
       "      <td>03/02/15</td>\n",
       "      <td>Cars</td>\n",
       "      <td>Sea</td>\n",
       "      <td>Honda</td>\n",
       "      <td>14000000</td>\n",
       "    </tr>\n",
       "    <tr>\n",
       "      <th>4</th>\n",
       "      <td>5</td>\n",
       "      <td>Exports</td>\n",
       "      <td>Japan</td>\n",
       "      <td>China</td>\n",
       "      <td>2015</td>\n",
       "      <td>04/02/15</td>\n",
       "      <td>Cars</td>\n",
       "      <td>Sea</td>\n",
       "      <td>Honda</td>\n",
       "      <td>17000000</td>\n",
       "    </tr>\n",
       "    <tr>\n",
       "      <th>...</th>\n",
       "      <td>...</td>\n",
       "      <td>...</td>\n",
       "      <td>...</td>\n",
       "      <td>...</td>\n",
       "      <td>...</td>\n",
       "      <td>...</td>\n",
       "      <td>...</td>\n",
       "      <td>...</td>\n",
       "      <td>...</td>\n",
       "      <td>...</td>\n",
       "    </tr>\n",
       "    <tr>\n",
       "      <th>15403</th>\n",
       "      <td>15404</td>\n",
       "      <td>Exports</td>\n",
       "      <td>Netherlands</td>\n",
       "      <td>Belgium</td>\n",
       "      <td>2020</td>\n",
       "      <td>27/06/20</td>\n",
       "      <td>Meat</td>\n",
       "      <td>Road</td>\n",
       "      <td>Dutch Meat Bv</td>\n",
       "      <td>0</td>\n",
       "    </tr>\n",
       "    <tr>\n",
       "      <th>15404</th>\n",
       "      <td>15405</td>\n",
       "      <td>Exports</td>\n",
       "      <td>Netherlands</td>\n",
       "      <td>Belgium</td>\n",
       "      <td>2020</td>\n",
       "      <td>28/06/20</td>\n",
       "      <td>Meat</td>\n",
       "      <td>Road</td>\n",
       "      <td>Dutch Meat Bv</td>\n",
       "      <td>0</td>\n",
       "    </tr>\n",
       "    <tr>\n",
       "      <th>15405</th>\n",
       "      <td>15406</td>\n",
       "      <td>Exports</td>\n",
       "      <td>Netherlands</td>\n",
       "      <td>Belgium</td>\n",
       "      <td>2020</td>\n",
       "      <td>29/06/20</td>\n",
       "      <td>Meat</td>\n",
       "      <td>Road</td>\n",
       "      <td>Dutch Meat Bv</td>\n",
       "      <td>9000</td>\n",
       "    </tr>\n",
       "    <tr>\n",
       "      <th>15406</th>\n",
       "      <td>15407</td>\n",
       "      <td>Exports</td>\n",
       "      <td>Netherlands</td>\n",
       "      <td>Belgium</td>\n",
       "      <td>2020</td>\n",
       "      <td>30/06/20</td>\n",
       "      <td>Meat</td>\n",
       "      <td>Road</td>\n",
       "      <td>Dutch Meat Bv</td>\n",
       "      <td>1000</td>\n",
       "    </tr>\n",
       "    <tr>\n",
       "      <th>15407</th>\n",
       "      <td>15408</td>\n",
       "      <td>Exports</td>\n",
       "      <td>Netherlands</td>\n",
       "      <td>Belgium</td>\n",
       "      <td>2020</td>\n",
       "      <td>01/07/20</td>\n",
       "      <td>Meat</td>\n",
       "      <td>Road</td>\n",
       "      <td>Dutch Meat Bv</td>\n",
       "      <td>4000</td>\n",
       "    </tr>\n",
       "  </tbody>\n",
       "</table>\n",
       "<p>15408 rows × 10 columns</p>\n",
       "</div>"
      ],
      "text/plain": [
       "       register_id direction       origin destination  year      date product  \\\n",
       "0                1   Exports        Japan       China  2015  31/01/15    Cars   \n",
       "1                2   Exports        Japan       China  2015  01/02/15    Cars   \n",
       "2                3   Exports        Japan       China  2015  02/02/15    Cars   \n",
       "3                4   Exports        Japan       China  2015  03/02/15    Cars   \n",
       "4                5   Exports        Japan       China  2015  04/02/15    Cars   \n",
       "...            ...       ...          ...         ...   ...       ...     ...   \n",
       "15403        15404   Exports  Netherlands     Belgium  2020  27/06/20    Meat   \n",
       "15404        15405   Exports  Netherlands     Belgium  2020  28/06/20    Meat   \n",
       "15405        15406   Exports  Netherlands     Belgium  2020  29/06/20    Meat   \n",
       "15406        15407   Exports  Netherlands     Belgium  2020  30/06/20    Meat   \n",
       "15407        15408   Exports  Netherlands     Belgium  2020  01/07/20    Meat   \n",
       "\n",
       "      transport_mode   company_name  total_value  \n",
       "0                Sea          Honda     33000000  \n",
       "1                Sea          Honda     16000000  \n",
       "2                Sea          Honda     29000000  \n",
       "3                Sea          Honda     14000000  \n",
       "4                Sea          Honda     17000000  \n",
       "...              ...            ...          ...  \n",
       "15403           Road  Dutch Meat Bv            0  \n",
       "15404           Road  Dutch Meat Bv            0  \n",
       "15405           Road  Dutch Meat Bv         9000  \n",
       "15406           Road  Dutch Meat Bv         1000  \n",
       "15407           Road  Dutch Meat Bv         4000  \n",
       "\n",
       "[15408 rows x 10 columns]"
      ]
     },
     "execution_count": 8,
     "metadata": {},
     "output_type": "execute_result"
    }
   ],
   "source": [
    "Exports"
   ]
  },
  {
   "cell_type": "code",
   "execution_count": 9,
   "metadata": {},
   "outputs": [
    {
     "data": {
      "text/plain": [
       "China             1657\n",
       "USA               1464\n",
       "Germany           1295\n",
       "Japan             1257\n",
       "South Korea       1134\n",
       "France             919\n",
       "United Kingdom     871\n",
       "Australia          863\n",
       "Netherlands        796\n",
       "Mexico             772\n",
       "Russia             766\n",
       "Canada             603\n",
       "India              565\n",
       "Italy              562\n",
       "Austria            437\n",
       "Brazil             396\n",
       "Spain              295\n",
       "Singapore          264\n",
       "Switzerland        249\n",
       "Belgium            243\n",
       "Name: origin, dtype: int64"
      ]
     },
     "execution_count": 9,
     "metadata": {},
     "output_type": "execute_result"
    }
   ],
   "source": [
    "Exports['origin'].value_counts() #En nuestro DF de exportaciones en la columna origin , vemos los diferentes paises de origen "
   ]
  },
  {
   "cell_type": "code",
   "execution_count": 10,
   "metadata": {},
   "outputs": [],
   "source": [
    "ex=Exports['origin'].value_counts() #creamos una variable con esta informacion unicamente para graficar."
   ]
  },
  {
   "cell_type": "code",
   "execution_count": 233,
   "metadata": {},
   "outputs": [
    {
     "data": {
      "text/plain": [
       "<Figure size 432x288 with 0 Axes>"
      ]
     },
     "metadata": {},
     "output_type": "display_data"
    },
    {
     "data": {
      "image/png": "[encoded data removed]",
      "text/plain": [
       "<Figure size 720x504 with 1 Axes>"
      ]
     },
     "metadata": {
      "needs_background": "light"
     },
     "output_type": "display_data"
    }
   ],
   "source": [
    "figure=plt.gcf()\n",
    "plt.figure(figsize=(10,7))\n",
    "ex.plot.bar()\n",
    "plt.xlabel('Países')\n",
    "plt.ylabel('Numero de exportaciones por país.')\n",
    "plt.title('Exportaciones')\n",
    "figure.tight_layout()\n",
    "plt.savefig('num_exportaciones.png',dpi=100,bbox_inches='tight')\n",
    "plt.show()"
   ]
  },
  {
   "cell_type": "code",
   "execution_count": 12,
   "metadata": {},
   "outputs": [],
   "source": [
    "Exp_Ori_China=Exports[Exports['origin'].str.contains('China')] #creamos diferentes DF para los distintos paises de origen\n",
    "Exp_Ori_Japan=Exports[Exports['origin'].str.contains('Japan')]\n",
    "Exp_Ori_Netherlands=Exports[Exports['origin'].str.contains('Netherlands')]\n",
    "Exp_Ori_USA=Exports[Exports['origin'].str.contains('USA')]\n",
    "Exp_Ori_Germany=Exports[Exports['origin'].str.contains('Germany')]\n",
    "Exp_Ori_South_Korea=Exports[Exports['origin'].str.contains('South Korea')]\n",
    "Exp_Ori_Canada=Exports[Exports['origin'].str.contains('Canada')]\n",
    "Exp_Ori_Mexico=Exports[Exports['origin'].str.contains('Mexico')]\n",
    "Exp_Ori_Singapore=Exports[Exports['origin'].str.contains('Singapore')]\n",
    "Exp_Ori_France=Exports[Exports['origin'].str.contains('France')]\n",
    "Exp_Ori_Australia=Exports[Exports['origin'].str.contains('Australia')]\n",
    "Exp_Ori_India=Exports[Exports['origin'].str.contains('India')]\n",
    "Exp_Ori_Brazil=Exports[Exports['origin'].str.contains('Brazil')]\n",
    "Exp_Ori_Italy=Exports[Exports['origin'].str.contains('Italy')]\n",
    "Exp_Ori_Spain=Exports[Exports['origin'].str.contains('Spain')]\n",
    "Exp_Ori_Russia=Exports[Exports['origin'].str.contains('Russia')]\n",
    "Exp_Ori_Switzerland=Exports[Exports['origin'].str.contains('Switzerland')]\n",
    "Exp_Ori_Belgium=Exports[Exports['origin'].str.contains('Belgium')]"
   ]
  },
  {
   "cell_type": "code",
   "execution_count": 13,
   "metadata": {},
   "outputs": [
    {
     "data": {
      "text/html": [
       "<div>\n",
       "<style scoped>\n",
       "    .dataframe tbody tr th:only-of-type {\n",
       "        vertical-align: middle;\n",
       "    }\n",
       "\n",
       "    .dataframe tbody tr th {\n",
       "        vertical-align: top;\n",
       "    }\n",
       "\n",
       "    .dataframe thead th {\n",
       "        text-align: right;\n",
       "    }\n",
       "</style>\n",
       "<table border=\"1\" class=\"dataframe\">\n",
       "  <thead>\n",
       "    <tr style=\"text-align: right;\">\n",
       "      <th></th>\n",
       "      <th>register_id</th>\n",
       "      <th>direction</th>\n",
       "      <th>origin</th>\n",
       "      <th>destination</th>\n",
       "      <th>year</th>\n",
       "      <th>date</th>\n",
       "      <th>product</th>\n",
       "      <th>transport_mode</th>\n",
       "      <th>company_name</th>\n",
       "      <th>total_value</th>\n",
       "    </tr>\n",
       "  </thead>\n",
       "  <tbody>\n",
       "    <tr>\n",
       "      <th>291</th>\n",
       "      <td>292</td>\n",
       "      <td>Exports</td>\n",
       "      <td>China</td>\n",
       "      <td>Japan</td>\n",
       "      <td>2016</td>\n",
       "      <td>17/06/16</td>\n",
       "      <td>Computers</td>\n",
       "      <td>Air</td>\n",
       "      <td>Lenovo Group Ltd</td>\n",
       "      <td>41000000</td>\n",
       "    </tr>\n",
       "    <tr>\n",
       "      <th>292</th>\n",
       "      <td>293</td>\n",
       "      <td>Exports</td>\n",
       "      <td>China</td>\n",
       "      <td>Japan</td>\n",
       "      <td>2016</td>\n",
       "      <td>18/06/16</td>\n",
       "      <td>Computers</td>\n",
       "      <td>Air</td>\n",
       "      <td>Lenovo Group Ltd</td>\n",
       "      <td>33000000</td>\n",
       "    </tr>\n",
       "    <tr>\n",
       "      <th>293</th>\n",
       "      <td>294</td>\n",
       "      <td>Exports</td>\n",
       "      <td>China</td>\n",
       "      <td>Japan</td>\n",
       "      <td>2016</td>\n",
       "      <td>19/06/16</td>\n",
       "      <td>Computers</td>\n",
       "      <td>Air</td>\n",
       "      <td>Lenovo Group Ltd</td>\n",
       "      <td>28000000</td>\n",
       "    </tr>\n",
       "    <tr>\n",
       "      <th>294</th>\n",
       "      <td>295</td>\n",
       "      <td>Exports</td>\n",
       "      <td>China</td>\n",
       "      <td>Japan</td>\n",
       "      <td>2016</td>\n",
       "      <td>20/06/16</td>\n",
       "      <td>Computers</td>\n",
       "      <td>Air</td>\n",
       "      <td>Lenovo Group Ltd</td>\n",
       "      <td>24000000</td>\n",
       "    </tr>\n",
       "    <tr>\n",
       "      <th>295</th>\n",
       "      <td>296</td>\n",
       "      <td>Exports</td>\n",
       "      <td>China</td>\n",
       "      <td>Japan</td>\n",
       "      <td>2016</td>\n",
       "      <td>21/06/16</td>\n",
       "      <td>Computers</td>\n",
       "      <td>Air</td>\n",
       "      <td>Lenovo Group Ltd</td>\n",
       "      <td>20000000</td>\n",
       "    </tr>\n",
       "    <tr>\n",
       "      <th>...</th>\n",
       "      <td>...</td>\n",
       "      <td>...</td>\n",
       "      <td>...</td>\n",
       "      <td>...</td>\n",
       "      <td>...</td>\n",
       "      <td>...</td>\n",
       "      <td>...</td>\n",
       "      <td>...</td>\n",
       "      <td>...</td>\n",
       "      <td>...</td>\n",
       "    </tr>\n",
       "    <tr>\n",
       "      <th>12740</th>\n",
       "      <td>12741</td>\n",
       "      <td>Exports</td>\n",
       "      <td>China</td>\n",
       "      <td>Rusia</td>\n",
       "      <td>2015</td>\n",
       "      <td>12/03/15</td>\n",
       "      <td>Smartphones</td>\n",
       "      <td>Rail</td>\n",
       "      <td>Xiaomi Corp</td>\n",
       "      <td>2000</td>\n",
       "    </tr>\n",
       "    <tr>\n",
       "      <th>12741</th>\n",
       "      <td>12742</td>\n",
       "      <td>Exports</td>\n",
       "      <td>China</td>\n",
       "      <td>Rusia</td>\n",
       "      <td>2015</td>\n",
       "      <td>13/03/15</td>\n",
       "      <td>Smartphones</td>\n",
       "      <td>Rail</td>\n",
       "      <td>Xiaomi Corp</td>\n",
       "      <td>1000</td>\n",
       "    </tr>\n",
       "    <tr>\n",
       "      <th>12742</th>\n",
       "      <td>12743</td>\n",
       "      <td>Exports</td>\n",
       "      <td>China</td>\n",
       "      <td>Rusia</td>\n",
       "      <td>2015</td>\n",
       "      <td>14/03/15</td>\n",
       "      <td>Smartphones</td>\n",
       "      <td>Rail</td>\n",
       "      <td>Xiaomi Corp</td>\n",
       "      <td>1000</td>\n",
       "    </tr>\n",
       "    <tr>\n",
       "      <th>12743</th>\n",
       "      <td>12744</td>\n",
       "      <td>Exports</td>\n",
       "      <td>China</td>\n",
       "      <td>Rusia</td>\n",
       "      <td>2015</td>\n",
       "      <td>15/03/15</td>\n",
       "      <td>Smartphones</td>\n",
       "      <td>Rail</td>\n",
       "      <td>Xiaomi Corp</td>\n",
       "      <td>1000</td>\n",
       "    </tr>\n",
       "    <tr>\n",
       "      <th>12744</th>\n",
       "      <td>12745</td>\n",
       "      <td>Exports</td>\n",
       "      <td>China</td>\n",
       "      <td>Rusia</td>\n",
       "      <td>2015</td>\n",
       "      <td>16/03/15</td>\n",
       "      <td>Smartphones</td>\n",
       "      <td>Rail</td>\n",
       "      <td>Xiaomi Corp</td>\n",
       "      <td>0</td>\n",
       "    </tr>\n",
       "  </tbody>\n",
       "</table>\n",
       "<p>1657 rows × 10 columns</p>\n",
       "</div>"
      ],
      "text/plain": [
       "       register_id direction origin destination  year      date      product  \\\n",
       "291            292   Exports  China       Japan  2016  17/06/16    Computers   \n",
       "292            293   Exports  China       Japan  2016  18/06/16    Computers   \n",
       "293            294   Exports  China       Japan  2016  19/06/16    Computers   \n",
       "294            295   Exports  China       Japan  2016  20/06/16    Computers   \n",
       "295            296   Exports  China       Japan  2016  21/06/16    Computers   \n",
       "...            ...       ...    ...         ...   ...       ...          ...   \n",
       "12740        12741   Exports  China       Rusia  2015  12/03/15  Smartphones   \n",
       "12741        12742   Exports  China       Rusia  2015  13/03/15  Smartphones   \n",
       "12742        12743   Exports  China       Rusia  2015  14/03/15  Smartphones   \n",
       "12743        12744   Exports  China       Rusia  2015  15/03/15  Smartphones   \n",
       "12744        12745   Exports  China       Rusia  2015  16/03/15  Smartphones   \n",
       "\n",
       "      transport_mode      company_name  total_value  \n",
       "291              Air  Lenovo Group Ltd     41000000  \n",
       "292              Air  Lenovo Group Ltd     33000000  \n",
       "293              Air  Lenovo Group Ltd     28000000  \n",
       "294              Air  Lenovo Group Ltd     24000000  \n",
       "295              Air  Lenovo Group Ltd     20000000  \n",
       "...              ...               ...          ...  \n",
       "12740           Rail       Xiaomi Corp         2000  \n",
       "12741           Rail       Xiaomi Corp         1000  \n",
       "12742           Rail       Xiaomi Corp         1000  \n",
       "12743           Rail       Xiaomi Corp         1000  \n",
       "12744           Rail       Xiaomi Corp            0  \n",
       "\n",
       "[1657 rows x 10 columns]"
      ]
     },
     "execution_count": 13,
     "metadata": {},
     "output_type": "execute_result"
    }
   ],
   "source": [
    "Exp_Ori_China"
   ]
  },
  {
   "cell_type": "code",
   "execution_count": 14,
   "metadata": {},
   "outputs": [
    {
     "name": "stdout",
     "output_type": "stream",
     "text": [
      "Mexico         330\n",
      "Spain          250\n",
      "Rusia          204\n",
      "South Korea    189\n",
      "Argentina      143\n",
      "Germany        142\n",
      "Japan          133\n",
      "USA            111\n",
      "Belgium         95\n",
      "Brazil          60\n",
      "Name: destination, dtype: int64\n"
     ]
    }
   ],
   "source": [
    "print(Exp_Ori_China['destination'].value_counts()) # para cada país de origen , checamos sus destinos. En este caso para china "
   ]
  },
  {
   "cell_type": "code",
   "execution_count": 15,
   "metadata": {},
   "outputs": [],
   "source": [
    "china_totales=[] # hacemos un ciclo sobre los paises destino donde sumamos el valor total de cada DF, esto lo apendamos en una lista \n",
    "for i in ['Mexico','Spain','Rusia','South Korea','Argentina','Germany','Japan','USA','Belgium','Brazil']:#esto para crear la relacion origen/destino:Ingreso para cada país.\n",
    "    china_totales.append(['china /'+i,Exp_Ori_China[Exp_Ori_China['destination'].str.contains(i)]['total_value'].sum()])\n",
    "        "
   ]
  },
  {
   "cell_type": "code",
   "execution_count": 16,
   "metadata": {},
   "outputs": [
    {
     "data": {
      "text/plain": [
       "[['china /Mexico', 12250000000],\n",
       " ['china /Spain', 1862000000],\n",
       " ['china /Rusia', 989046000],\n",
       " ['china /South Korea', 4790000000],\n",
       " ['china /Argentina', 1236000000],\n",
       " ['china /Germany', 4090000000],\n",
       " ['china /Japan', 2654000000],\n",
       " ['china /USA', 3797000000],\n",
       " ['china /Belgium', 524000000],\n",
       " ['china /Brazil', 785000000]]"
      ]
     },
     "execution_count": 16,
     "metadata": {},
     "output_type": "execute_result"
    }
   ],
   "source": [
    "china_totales"
   ]
  },
  {
   "cell_type": "code",
   "execution_count": 17,
   "metadata": {},
   "outputs": [
    {
     "data": {
      "text/plain": [
       "[['china /Mexico', 12250000000],\n",
       " ['china /South Korea', 4790000000],\n",
       " ['china /Germany', 4090000000],\n",
       " ['china /USA', 3797000000],\n",
       " ['china /Japan', 2654000000],\n",
       " ['china /Spain', 1862000000],\n",
       " ['china /Argentina', 1236000000],\n",
       " ['china /Rusia', 989046000],\n",
       " ['china /Brazil', 785000000],\n",
       " ['china /Belgium', 524000000]]"
      ]
     },
     "execution_count": 17,
     "metadata": {},
     "output_type": "execute_result"
    }
   ],
   "source": [
    "ordenamiento(china_totales) #ordenamos la lista en orden descendente con nuestra función\n",
    "china_totales"
   ]
  },
  {
   "cell_type": "code",
   "execution_count": 18,
   "metadata": {},
   "outputs": [
    {
     "name": "stdout",
     "output_type": "stream",
     "text": [
      "Singapore         273\n",
      "Thailand          200\n",
      "Philippines       114\n",
      "United Kingdom    113\n",
      "Brazil            112\n",
      "Mexico             51\n",
      "Name: destination, dtype: int64\n"
     ]
    }
   ],
   "source": [
    "print(Exp_Ori_Australia['destination'].value_counts()) #Este mismo proceso se hace para cada país de origen."
   ]
  },
  {
   "cell_type": "code",
   "execution_count": 19,
   "metadata": {},
   "outputs": [],
   "source": [
    "Aus_totales=[]\n",
    "for i in ['Singapore','Thailand','Philippines','United Kingdom','Brazil','Mexico']:\n",
    "    Aus_totales.append(['Australia/'+i,Exp_Ori_Australia[Exp_Ori_Australia['destination'].str.contains(i)]['total_value'].sum()])"
   ]
  },
  {
   "cell_type": "code",
   "execution_count": 20,
   "metadata": {},
   "outputs": [
    {
     "data": {
      "text/plain": [
       "[['Australia/Singapore', 493000000],\n",
       " ['Australia/Philippines', 344000000],\n",
       " ['Australia/Thailand', 337000000],\n",
       " ['Australia/United Kingdom', 220000000],\n",
       " ['Australia/Brazil', 172000000],\n",
       " ['Australia/Mexico', 84000000]]"
      ]
     },
     "execution_count": 20,
     "metadata": {},
     "output_type": "execute_result"
    }
   ],
   "source": [
    "ordenamiento(Aus_totales)\n",
    "Aus_totales"
   ]
  },
  {
   "cell_type": "code",
   "execution_count": 21,
   "metadata": {},
   "outputs": [
    {
     "name": "stdout",
     "output_type": "stream",
     "text": [
      "United Kingdom    146\n",
      "Netherlands        36\n",
      "France             32\n",
      "Germany            29\n",
      "Name: destination, dtype: int64\n"
     ]
    }
   ],
   "source": [
    "print(Exp_Ori_Belgium['destination'].value_counts())"
   ]
  },
  {
   "cell_type": "code",
   "execution_count": 22,
   "metadata": {},
   "outputs": [],
   "source": [
    "Bel_totales=[]\n",
    "for i in ['United Kingdom','Netherlands','France','Germany']:\n",
    "    Bel_totales.append(['Belgica/'+i,Exp_Ori_Belgium[Exp_Ori_Belgium['destination'].str.contains(i)]['total_value'].sum()])"
   ]
  },
  {
   "cell_type": "code",
   "execution_count": 23,
   "metadata": {},
   "outputs": [
    {
     "data": {
      "text/plain": [
       "[['Belgica/United Kingdom', 1632000000],\n",
       " ['Belgica/Netherlands', 311000000],\n",
       " ['Belgica/France', 343000000],\n",
       " ['Belgica/Germany', 302000000]]"
      ]
     },
     "execution_count": 23,
     "metadata": {},
     "output_type": "execute_result"
    }
   ],
   "source": [
    "Bel_totales"
   ]
  },
  {
   "cell_type": "code",
   "execution_count": 24,
   "metadata": {},
   "outputs": [
    {
     "data": {
      "text/plain": [
       "[['Belgica/United Kingdom', 1632000000],\n",
       " ['Belgica/France', 343000000],\n",
       " ['Belgica/Netherlands', 311000000],\n",
       " ['Belgica/Germany', 302000000]]"
      ]
     },
     "execution_count": 24,
     "metadata": {},
     "output_type": "execute_result"
    }
   ],
   "source": [
    "ordenamiento(Bel_totales)\n",
    "Bel_totales"
   ]
  },
  {
   "cell_type": "code",
   "execution_count": 25,
   "metadata": {},
   "outputs": [
    {
     "data": {
      "text/plain": [
       "Mexico         108\n",
       "Argentina       82\n",
       "China           82\n",
       "Netherlands     78\n",
       "USA             46\n",
       "Name: destination, dtype: int64"
      ]
     },
     "execution_count": 25,
     "metadata": {},
     "output_type": "execute_result"
    }
   ],
   "source": [
    "Exp_Ori_Brazil['destination'].value_counts()"
   ]
  },
  {
   "cell_type": "code",
   "execution_count": 26,
   "metadata": {},
   "outputs": [],
   "source": [
    "BRA_totales=[]\n",
    "for i in ['Netherlands','Mexico','China','Argentina','USA']:\n",
    "    BRA_totales.append(['Brazil/'+i,Exp_Ori_Brazil[Exp_Ori_Brazil['destination'].str.contains(i)]['total_value'].sum()])"
   ]
  },
  {
   "cell_type": "code",
   "execution_count": 27,
   "metadata": {},
   "outputs": [
    {
     "data": {
      "text/plain": [
       "[['Brazil/Netherlands', 462000000],\n",
       " ['Brazil/Mexico', 689000000],\n",
       " ['Brazil/China', 386000000],\n",
       " ['Brazil/Argentina', 465000000],\n",
       " ['Brazil/USA', 272000000]]"
      ]
     },
     "execution_count": 27,
     "metadata": {},
     "output_type": "execute_result"
    }
   ],
   "source": [
    "BRA_totales"
   ]
  },
  {
   "cell_type": "code",
   "execution_count": 28,
   "metadata": {},
   "outputs": [
    {
     "data": {
      "text/plain": [
       "[['Brazil/Mexico', 689000000],\n",
       " ['Brazil/Argentina', 465000000],\n",
       " ['Brazil/Netherlands', 462000000],\n",
       " ['Brazil/China', 386000000],\n",
       " ['Brazil/USA', 272000000]]"
      ]
     },
     "execution_count": 28,
     "metadata": {},
     "output_type": "execute_result"
    }
   ],
   "source": [
    "ordenamiento(BRA_totales)\n",
    "BRA_totales"
   ]
  },
  {
   "cell_type": "code",
   "execution_count": 29,
   "metadata": {},
   "outputs": [
    {
     "data": {
      "text/plain": [
       "Mexico            261\n",
       "USA               114\n",
       "China             103\n",
       "Japan              83\n",
       "United Kingdom     23\n",
       "Brazil             19\n",
       "Name: destination, dtype: int64"
      ]
     },
     "execution_count": 29,
     "metadata": {},
     "output_type": "execute_result"
    }
   ],
   "source": [
    "Exp_Ori_Canada['destination'].value_counts()"
   ]
  },
  {
   "cell_type": "code",
   "execution_count": 30,
   "metadata": {},
   "outputs": [],
   "source": [
    "Can_totales=[]\n",
    "for i in ['United Kingdom','Mexico','USA','China','Japan','Brazil']:\n",
    "    Can_totales.append(['Canada/'+i,Exp_Ori_Canada[Exp_Ori_Canada['destination'].str.contains(i)]['total_value'].sum()])"
   ]
  },
  {
   "cell_type": "code",
   "execution_count": 31,
   "metadata": {},
   "outputs": [
    {
     "data": {
      "text/plain": [
       "[['Canada/United Kingdom', 163000000],\n",
       " ['Canada/Mexico', 8450000000],\n",
       " ['Canada/USA', 640000000],\n",
       " ['Canada/China', 693000000],\n",
       " ['Canada/Japan', 532000000],\n",
       " ['Canada/Brazil', 206000000]]"
      ]
     },
     "execution_count": 31,
     "metadata": {},
     "output_type": "execute_result"
    }
   ],
   "source": [
    "Can_totales"
   ]
  },
  {
   "cell_type": "code",
   "execution_count": 32,
   "metadata": {},
   "outputs": [
    {
     "data": {
      "text/plain": [
       "[['Canada/Mexico', 8450000000],\n",
       " ['Canada/China', 693000000],\n",
       " ['Canada/USA', 640000000],\n",
       " ['Canada/Japan', 532000000],\n",
       " ['Canada/Brazil', 206000000],\n",
       " ['Canada/United Kingdom', 163000000]]"
      ]
     },
     "execution_count": 32,
     "metadata": {},
     "output_type": "execute_result"
    }
   ],
   "source": [
    "ordenamiento(Can_totales)\n",
    "Can_totales"
   ]
  },
  {
   "cell_type": "code",
   "execution_count": 33,
   "metadata": {},
   "outputs": [
    {
     "data": {
      "text/plain": [
       "Belgium           223\n",
       "United Kingdom    147\n",
       "Spain             116\n",
       "Germany           109\n",
       "USA               103\n",
       "Canada             86\n",
       "China              72\n",
       "Italy              23\n",
       "Netherlands        20\n",
       "Russia             13\n",
       "Austria             7\n",
       "Name: destination, dtype: int64"
      ]
     },
     "execution_count": 33,
     "metadata": {},
     "output_type": "execute_result"
    }
   ],
   "source": [
    "Exp_Ori_France['destination'].value_counts()"
   ]
  },
  {
   "cell_type": "code",
   "execution_count": 34,
   "metadata": {},
   "outputs": [],
   "source": [
    "Fra_totales=[]\n",
    "for i in ['United Kingdom','Netherlands','Germany','Belgium','Spain','USA','Canada','China','Italy','Russia','Austria']:\n",
    "    Fra_totales.append(['Francia/'+i,Exp_Ori_France[Exp_Ori_France['destination'].str.contains(i)]['total_value'].sum()])"
   ]
  },
  {
   "cell_type": "code",
   "execution_count": 35,
   "metadata": {},
   "outputs": [
    {
     "data": {
      "text/plain": [
       "[['Francia/United Kingdom', 5427000000],\n",
       " ['Francia/Netherlands', 14000],\n",
       " ['Francia/Germany', 1940035000],\n",
       " ['Francia/Belgium', 5538069000],\n",
       " ['Francia/Spain', 1455058000],\n",
       " ['Francia/USA', 3402000000],\n",
       " ['Francia/Canada', 75000],\n",
       " ['Francia/China', 54000],\n",
       " ['Francia/Italy', 852000000],\n",
       " ['Francia/Russia', 20000],\n",
       " ['Francia/Austria', 7000]]"
      ]
     },
     "execution_count": 35,
     "metadata": {},
     "output_type": "execute_result"
    }
   ],
   "source": [
    "Fra_totales"
   ]
  },
  {
   "cell_type": "code",
   "execution_count": 36,
   "metadata": {},
   "outputs": [
    {
     "data": {
      "text/plain": [
       "[['Francia/Belgium', 5538069000],\n",
       " ['Francia/United Kingdom', 5427000000],\n",
       " ['Francia/USA', 3402000000],\n",
       " ['Francia/Germany', 1940035000],\n",
       " ['Francia/Spain', 1455058000],\n",
       " ['Francia/Italy', 852000000],\n",
       " ['Francia/Canada', 75000],\n",
       " ['Francia/China', 54000],\n",
       " ['Francia/Russia', 20000],\n",
       " ['Francia/Netherlands', 14000],\n",
       " ['Francia/Austria', 7000]]"
      ]
     },
     "execution_count": 36,
     "metadata": {},
     "output_type": "execute_result"
    }
   ],
   "source": [
    "ordenamiento(Fra_totales)\n",
    "Fra_totales"
   ]
  },
  {
   "cell_type": "code",
   "execution_count": 37,
   "metadata": {},
   "outputs": [
    {
     "data": {
      "text/plain": [
       "France            299\n",
       "USA               236\n",
       "Mexico            161\n",
       "South Korea       144\n",
       "Italy             130\n",
       "China              95\n",
       "Canada             93\n",
       "Brazil             85\n",
       "United Kingdom     52\n",
       "Name: destination, dtype: int64"
      ]
     },
     "execution_count": 37,
     "metadata": {},
     "output_type": "execute_result"
    }
   ],
   "source": [
    "Exp_Ori_Germany['destination'].value_counts()"
   ]
  },
  {
   "cell_type": "code",
   "execution_count": 38,
   "metadata": {},
   "outputs": [],
   "source": [
    "GER_totales=[]\n",
    "for i in ['United Kingdom','France','USA','Mexico','South Korea','Italy','China','Canada','Brazil']:\n",
    "    GER_totales.append(['Germany/'+i,Exp_Ori_Germany[Exp_Ori_Germany['destination'].str.contains(i)]['total_value'].sum()])"
   ]
  },
  {
   "cell_type": "code",
   "execution_count": 39,
   "metadata": {},
   "outputs": [
    {
     "data": {
      "text/plain": [
       "[['Germany/United Kingdom', 2635000],\n",
       " ['Germany/France', 2902214000],\n",
       " ['Germany/USA', 795446000],\n",
       " ['Germany/Mexico', 2952000],\n",
       " ['Germany/South Korea', 902668000],\n",
       " ['Germany/Italy', 4541000000],\n",
       " ['Germany/China', 2167875000],\n",
       " ['Germany/Canada', 25178000],\n",
       " ['Germany/Brazil', 3265000]]"
      ]
     },
     "execution_count": 39,
     "metadata": {},
     "output_type": "execute_result"
    }
   ],
   "source": [
    "GER_totales"
   ]
  },
  {
   "cell_type": "code",
   "execution_count": 40,
   "metadata": {},
   "outputs": [
    {
     "data": {
      "text/plain": [
       "[['Germany/Italy', 4541000000],\n",
       " ['Germany/France', 2902214000],\n",
       " ['Germany/China', 2167875000],\n",
       " ['Germany/South Korea', 902668000],\n",
       " ['Germany/USA', 795446000],\n",
       " ['Germany/Canada', 25178000],\n",
       " ['Germany/Brazil', 3265000],\n",
       " ['Germany/Mexico', 2952000],\n",
       " ['Germany/United Kingdom', 2635000]]"
      ]
     },
     "execution_count": 40,
     "metadata": {},
     "output_type": "execute_result"
    }
   ],
   "source": [
    "ordenamiento(GER_totales)\n",
    "GER_totales"
   ]
  },
  {
   "cell_type": "code",
   "execution_count": 41,
   "metadata": {},
   "outputs": [
    {
     "data": {
      "text/plain": [
       "United Arab Emirates    214\n",
       "China                   183\n",
       "USA                      95\n",
       "Germany                  28\n",
       "Russia                   26\n",
       "Japan                    19\n",
       "Name: destination, dtype: int64"
      ]
     },
     "execution_count": 41,
     "metadata": {},
     "output_type": "execute_result"
    }
   ],
   "source": [
    "Exp_Ori_India['destination'].value_counts()"
   ]
  },
  {
   "cell_type": "code",
   "execution_count": 42,
   "metadata": {},
   "outputs": [],
   "source": [
    "Ind_totales=[]\n",
    "for i in ['United Arab Emirates','China','USA','Russia','Japan','Germany']:\n",
    "    Ind_totales.append(['Inida/'+i,Exp_Ori_India[Exp_Ori_India['destination'].str.contains(i)]['total_value'].sum()])"
   ]
  },
  {
   "cell_type": "code",
   "execution_count": 43,
   "metadata": {},
   "outputs": [
    {
     "data": {
      "text/plain": [
       "[['Inida/United Arab Emirates', 1037000000],\n",
       " ['Inida/China', 761000000],\n",
       " ['Inida/USA', 474000000],\n",
       " ['Inida/Russia', 106000000],\n",
       " ['Inida/Japan', 111000000],\n",
       " ['Inida/Germany', 137000000]]"
      ]
     },
     "execution_count": 43,
     "metadata": {},
     "output_type": "execute_result"
    }
   ],
   "source": [
    "Ind_totales"
   ]
  },
  {
   "cell_type": "code",
   "execution_count": 44,
   "metadata": {},
   "outputs": [
    {
     "data": {
      "text/plain": [
       "[['Inida/United Arab Emirates', 1037000000],\n",
       " ['Inida/China', 761000000],\n",
       " ['Inida/USA', 474000000],\n",
       " ['Inida/Germany', 137000000],\n",
       " ['Inida/Japan', 111000000],\n",
       " ['Inida/Russia', 106000000]]"
      ]
     },
     "execution_count": 44,
     "metadata": {},
     "output_type": "execute_result"
    }
   ],
   "source": [
    "ordenamiento(Ind_totales)\n",
    "Ind_totales"
   ]
  },
  {
   "cell_type": "code",
   "execution_count": 45,
   "metadata": {},
   "outputs": [
    {
     "data": {
      "text/plain": [
       "Germany           109\n",
       "Spain              75\n",
       "Switzerland        74\n",
       "USA                58\n",
       "United Kingdom     50\n",
       "France             48\n",
       "Croatia            30\n",
       "Singapore          30\n",
       "Canada             28\n",
       "Ireland            25\n",
       "Netherlands        19\n",
       "Russia             16\n",
       "Name: destination, dtype: int64"
      ]
     },
     "execution_count": 45,
     "metadata": {},
     "output_type": "execute_result"
    }
   ],
   "source": [
    "Exp_Ori_Italy['destination'].value_counts()"
   ]
  },
  {
   "cell_type": "code",
   "execution_count": 46,
   "metadata": {},
   "outputs": [],
   "source": [
    "Ita_totales=[]\n",
    "for i in ['United Kingdom','Netherlands','France','Germany','Spain','Switzerland','USA','Croatia','Singapore','Canada','Ireland','Russia']:\n",
    "    Ita_totales.append(['Italy/'+i,Exp_Ori_Italy[Exp_Ori_Italy['destination'].str.contains(i)]['total_value'].sum()])"
   ]
  },
  {
   "cell_type": "code",
   "execution_count": 47,
   "metadata": {},
   "outputs": [
    {
     "data": {
      "text/plain": [
       "[['Italy/United Kingdom', 706038000],\n",
       " ['Italy/Netherlands', 38000],\n",
       " ['Italy/France', 469060000],\n",
       " ['Italy/Germany', 1415088000],\n",
       " ['Italy/Spain', 871108000],\n",
       " ['Italy/Switzerland', 643094000],\n",
       " ['Italy/USA', 107000],\n",
       " ['Italy/Croatia', 699000000],\n",
       " ['Italy/Singapore', 45000],\n",
       " ['Italy/Canada', 66000],\n",
       " ['Italy/Ireland', 563000000],\n",
       " ['Italy/Russia', 40000]]"
      ]
     },
     "execution_count": 47,
     "metadata": {},
     "output_type": "execute_result"
    }
   ],
   "source": [
    "Ita_totales"
   ]
  },
  {
   "cell_type": "code",
   "execution_count": 48,
   "metadata": {},
   "outputs": [
    {
     "data": {
      "text/plain": [
       "[['Italy/Germany', 1415088000],\n",
       " ['Italy/Spain', 871108000],\n",
       " ['Italy/United Kingdom', 706038000],\n",
       " ['Italy/Croatia', 699000000],\n",
       " ['Italy/Switzerland', 643094000],\n",
       " ['Italy/Ireland', 563000000],\n",
       " ['Italy/France', 469060000],\n",
       " ['Italy/USA', 107000],\n",
       " ['Italy/Canada', 66000],\n",
       " ['Italy/Singapore', 45000],\n",
       " ['Italy/Russia', 40000],\n",
       " ['Italy/Netherlands', 38000]]"
      ]
     },
     "execution_count": 48,
     "metadata": {},
     "output_type": "execute_result"
    }
   ],
   "source": [
    "ordenamiento(Ita_totales)\n",
    "Ita_totales"
   ]
  },
  {
   "cell_type": "code",
   "execution_count": 49,
   "metadata": {},
   "outputs": [
    {
     "data": {
      "text/plain": [
       "Brazil         306\n",
       "Canada         203\n",
       "China          196\n",
       "Mexico         179\n",
       "USA            123\n",
       "Russia          68\n",
       "South Korea     62\n",
       "Germany         54\n",
       "Singapore       30\n",
       "Switzerland     21\n",
       "Spain           15\n",
       "Name: destination, dtype: int64"
      ]
     },
     "execution_count": 49,
     "metadata": {},
     "output_type": "execute_result"
    }
   ],
   "source": [
    "Exp_Ori_Japan['destination'].value_counts()"
   ]
  },
  {
   "cell_type": "code",
   "execution_count": 50,
   "metadata": {},
   "outputs": [],
   "source": [
    "Jap_totales=[]\n",
    "for i in ['Germany','Brazil','Canada','China','Mexico','USA','Russia','South Korea','Singapore','Switzerland','Spain']:\n",
    "    Jap_totales.append(['Japan/'+i,Exp_Ori_Japan[Exp_Ori_Japan['destination'].str.contains(i)]['total_value'].sum()])"
   ]
  },
  {
   "cell_type": "code",
   "execution_count": 51,
   "metadata": {},
   "outputs": [
    {
     "data": {
      "text/plain": [
       "[['Japan/Germany', 23111000],\n",
       " ['Japan/Brazil', 3368155000],\n",
       " ['Japan/Canada', 511000],\n",
       " ['Japan/China', 2550000000],\n",
       " ['Japan/Mexico', 1911000000],\n",
       " ['Japan/USA', 1965040000],\n",
       " ['Japan/Russia', 159000],\n",
       " ['Japan/South Korea', 1226000000],\n",
       " ['Japan/Singapore', 340000000],\n",
       " ['Japan/Switzerland', 197000000],\n",
       " ['Japan/Spain', 368000000]]"
      ]
     },
     "execution_count": 51,
     "metadata": {},
     "output_type": "execute_result"
    }
   ],
   "source": [
    "Jap_totales"
   ]
  },
  {
   "cell_type": "code",
   "execution_count": 52,
   "metadata": {},
   "outputs": [
    {
     "data": {
      "text/plain": [
       "[['Japan/Brazil', 3368155000],\n",
       " ['Japan/China', 2550000000],\n",
       " ['Japan/USA', 1965040000],\n",
       " ['Japan/Mexico', 1911000000],\n",
       " ['Japan/South Korea', 1226000000],\n",
       " ['Japan/Spain', 368000000],\n",
       " ['Japan/Singapore', 340000000],\n",
       " ['Japan/Switzerland', 197000000],\n",
       " ['Japan/Germany', 23111000],\n",
       " ['Japan/Canada', 511000],\n",
       " ['Japan/Russia', 159000]]"
      ]
     },
     "execution_count": 52,
     "metadata": {},
     "output_type": "execute_result"
    }
   ],
   "source": [
    "ordenamiento(Jap_totales)\n",
    "Jap_totales"
   ]
  },
  {
   "cell_type": "code",
   "execution_count": 53,
   "metadata": {},
   "outputs": [
    {
     "data": {
      "text/plain": [
       "New Zealand    249\n",
       "USA            106\n",
       "Singapore      106\n",
       "Brazil          81\n",
       "Japan           70\n",
       "Austria         59\n",
       "Canada          57\n",
       "Peru            44\n",
       "Name: destination, dtype: int64"
      ]
     },
     "execution_count": 53,
     "metadata": {},
     "output_type": "execute_result"
    }
   ],
   "source": [
    "Exp_Ori_Mexico['destination'].value_counts()"
   ]
  },
  {
   "cell_type": "code",
   "execution_count": 54,
   "metadata": {},
   "outputs": [],
   "source": [
    "Mex_totales=[]\n",
    "for i in ['New Zealand','USA','Singapore','Brazil','Japan','Austria','Canada','Peru']:\n",
    "    Mex_totales.append(['Mexico/'+i,Exp_Ori_Mexico[Exp_Ori_Mexico['destination'].str.contains(i)]['total_value'].sum()])"
   ]
  },
  {
   "cell_type": "code",
   "execution_count": 55,
   "metadata": {},
   "outputs": [
    {
     "data": {
      "text/plain": [
       "[['Mexico/New Zealand', 9382000],\n",
       " ['Mexico/USA', 585342000],\n",
       " ['Mexico/Singapore', 5082000],\n",
       " ['Mexico/Brazil', 147433000],\n",
       " ['Mexico/Japan', 392000000],\n",
       " ['Mexico/Austria', 1894000],\n",
       " ['Mexico/Canada', 276949000],\n",
       " ['Mexico/Peru', 1673000]]"
      ]
     },
     "execution_count": 55,
     "metadata": {},
     "output_type": "execute_result"
    }
   ],
   "source": [
    "Mex_totales"
   ]
  },
  {
   "cell_type": "code",
   "execution_count": 56,
   "metadata": {},
   "outputs": [
    {
     "data": {
      "text/plain": [
       "[['Mexico/USA', 585342000],\n",
       " ['Mexico/Japan', 392000000],\n",
       " ['Mexico/Canada', 276949000],\n",
       " ['Mexico/Brazil', 147433000],\n",
       " ['Mexico/New Zealand', 9382000],\n",
       " ['Mexico/Singapore', 5082000],\n",
       " ['Mexico/Austria', 1894000],\n",
       " ['Mexico/Peru', 1673000]]"
      ]
     },
     "execution_count": 56,
     "metadata": {},
     "output_type": "execute_result"
    }
   ],
   "source": [
    "ordenamiento(Mex_totales)\n",
    "Mex_totales"
   ]
  },
  {
   "cell_type": "code",
   "execution_count": 57,
   "metadata": {},
   "outputs": [
    {
     "data": {
      "text/plain": [
       "Belgium      437\n",
       "France       239\n",
       "Germany       44\n",
       "Argentina     29\n",
       "Mexico        24\n",
       "Brazil        23\n",
       "Name: destination, dtype: int64"
      ]
     },
     "execution_count": 57,
     "metadata": {},
     "output_type": "execute_result"
    }
   ],
   "source": [
    "Exp_Ori_Netherlands['destination'].value_counts()"
   ]
  },
  {
   "cell_type": "code",
   "execution_count": 58,
   "metadata": {},
   "outputs": [],
   "source": [
    "Neth_totales=[]\n",
    "for i in ['France','Germany','Belgium','Argentina','Mexico','Brazil']:\n",
    "    Neth_totales.append(['Netherlands/'+i,Exp_Ori_Netherlands[Exp_Ori_Netherlands['destination'].str.contains(i)]['total_value'].sum()])"
   ]
  },
  {
   "cell_type": "code",
   "execution_count": 59,
   "metadata": {},
   "outputs": [
    {
     "data": {
      "text/plain": [
       "[['Netherlands/France', 739075000],\n",
       " ['Netherlands/Germany', 143029000],\n",
       " ['Netherlands/Belgium', 3238142000],\n",
       " ['Netherlands/Argentina', 36000],\n",
       " ['Netherlands/Mexico', 28000],\n",
       " ['Netherlands/Brazil', 59000]]"
      ]
     },
     "execution_count": 59,
     "metadata": {},
     "output_type": "execute_result"
    }
   ],
   "source": [
    "Neth_totales"
   ]
  },
  {
   "cell_type": "code",
   "execution_count": 60,
   "metadata": {},
   "outputs": [
    {
     "data": {
      "text/plain": [
       "[['Netherlands/Belgium', 3238142000],\n",
       " ['Netherlands/France', 739075000],\n",
       " ['Netherlands/Germany', 143029000],\n",
       " ['Netherlands/Brazil', 59000],\n",
       " ['Netherlands/Argentina', 36000],\n",
       " ['Netherlands/Mexico', 28000]]"
      ]
     },
     "execution_count": 60,
     "metadata": {},
     "output_type": "execute_result"
    }
   ],
   "source": [
    "ordenamiento(Neth_totales)\n",
    "Neth_totales"
   ]
  },
  {
   "cell_type": "code",
   "execution_count": 61,
   "metadata": {},
   "outputs": [
    {
     "data": {
      "text/plain": [
       "Belorussia     219\n",
       "China          130\n",
       "Germany        120\n",
       "Netherlands    110\n",
       "Turkey          80\n",
       "France          36\n",
       "Japan           28\n",
       "India           23\n",
       "South Korea     20\n",
       "Name: destination, dtype: int64"
      ]
     },
     "execution_count": 61,
     "metadata": {},
     "output_type": "execute_result"
    }
   ],
   "source": [
    "Exp_Ori_Russia['destination'].value_counts()"
   ]
  },
  {
   "cell_type": "code",
   "execution_count": 62,
   "metadata": {},
   "outputs": [],
   "source": [
    "Rus_totales=[]\n",
    "for i in ['Netherlands','France','Germany','Belorussia','China','Turkey','Japan','India','South Korea']:\n",
    "    Rus_totales.append(['Rusia/'+i,Exp_Ori_Russia[Exp_Ori_Russia['destination'].str.contains(i)]['total_value'].sum()])"
   ]
  },
  {
   "cell_type": "code",
   "execution_count": 63,
   "metadata": {},
   "outputs": [
    {
     "data": {
      "text/plain": [
       "[['Rusia/Netherlands', 1959000000],\n",
       " ['Rusia/France', 542000000],\n",
       " ['Rusia/Germany', 2042000000],\n",
       " ['Rusia/Belorussia', 3529000000],\n",
       " ['Rusia/China', 2310000000],\n",
       " ['Rusia/Turkey', 1446000000],\n",
       " ['Rusia/Japan', 494000000],\n",
       " ['Rusia/India', 498000000],\n",
       " ['Rusia/South Korea', 403000000]]"
      ]
     },
     "execution_count": 63,
     "metadata": {},
     "output_type": "execute_result"
    }
   ],
   "source": [
    "Rus_totales"
   ]
  },
  {
   "cell_type": "code",
   "execution_count": 64,
   "metadata": {},
   "outputs": [
    {
     "data": {
      "text/plain": [
       "[['Rusia/Belorussia', 3529000000],\n",
       " ['Rusia/China', 2310000000],\n",
       " ['Rusia/Germany', 2042000000],\n",
       " ['Rusia/Netherlands', 1959000000],\n",
       " ['Rusia/Turkey', 1446000000],\n",
       " ['Rusia/France', 542000000],\n",
       " ['Rusia/India', 498000000],\n",
       " ['Rusia/Japan', 494000000],\n",
       " ['Rusia/South Korea', 403000000]]"
      ]
     },
     "execution_count": 64,
     "metadata": {},
     "output_type": "execute_result"
    }
   ],
   "source": [
    "ordenamiento(Rus_totales)\n",
    "Rus_totales"
   ]
  },
  {
   "cell_type": "code",
   "execution_count": 65,
   "metadata": {},
   "outputs": [
    {
     "data": {
      "text/plain": [
       "USA         106\n",
       "Malaysia     89\n",
       "Japan        46\n",
       "China        23\n",
       "Name: destination, dtype: int64"
      ]
     },
     "execution_count": 65,
     "metadata": {},
     "output_type": "execute_result"
    }
   ],
   "source": [
    "Exp_Ori_Singapore['destination'].value_counts()"
   ]
  },
  {
   "cell_type": "code",
   "execution_count": 66,
   "metadata": {},
   "outputs": [],
   "source": [
    "Sin_totales=[]\n",
    "for i in ['USA','Malaysia','Japan','China']:\n",
    "    Sin_totales.append(['Singapore/'+i,Exp_Ori_Singapore[Exp_Ori_Singapore['destination'].str.contains(i)]['total_value'].sum()])"
   ]
  },
  {
   "cell_type": "code",
   "execution_count": 67,
   "metadata": {},
   "outputs": [
    {
     "data": {
      "text/plain": [
       "[['Singapore/USA', 251000],\n",
       " ['Singapore/Malaysia', 218000],\n",
       " ['Singapore/Japan', 152000],\n",
       " ['Singapore/China', 63000]]"
      ]
     },
     "execution_count": 67,
     "metadata": {},
     "output_type": "execute_result"
    }
   ],
   "source": [
    "Sin_totales"
   ]
  },
  {
   "cell_type": "code",
   "execution_count": 68,
   "metadata": {},
   "outputs": [
    {
     "data": {
      "text/plain": [
       "[['Singapore/USA', 251000],\n",
       " ['Singapore/Malaysia', 218000],\n",
       " ['Singapore/Japan', 152000],\n",
       " ['Singapore/China', 63000]]"
      ]
     },
     "execution_count": 68,
     "metadata": {},
     "output_type": "execute_result"
    }
   ],
   "source": [
    "ordenamiento(Sin_totales)\n",
    "Sin_totales"
   ]
  },
  {
   "cell_type": "code",
   "execution_count": 69,
   "metadata": {},
   "outputs": [
    {
     "data": {
      "text/plain": [
       "Vietnam    497\n",
       "Japan      279\n",
       "Mexico      96\n",
       "China       94\n",
       "Brazil      91\n",
       "USA         77\n",
       "Name: destination, dtype: int64"
      ]
     },
     "execution_count": 69,
     "metadata": {},
     "output_type": "execute_result"
    }
   ],
   "source": [
    "Exp_Ori_South_Korea['destination'].value_counts()"
   ]
  },
  {
   "cell_type": "code",
   "execution_count": 70,
   "metadata": {},
   "outputs": [],
   "source": [
    "SK_totales=[]\n",
    "for i in ['Vietnam','Japan','Mexico','China','Brazil','USA']:\n",
    "    SK_totales.append(['South Korea/'+i,Exp_Ori_South_Korea[Exp_Ori_South_Korea['destination'].str.contains(i)]['total_value'].sum()])"
   ]
  },
  {
   "cell_type": "code",
   "execution_count": 71,
   "metadata": {},
   "outputs": [
    {
     "data": {
      "text/plain": [
       "[['South Korea/Vietnam', 6877007000],\n",
       " ['South Korea/Japan', 4594000000],\n",
       " ['South Korea/Mexico', 218035000],\n",
       " ['South Korea/China', 1704000000],\n",
       " ['South Korea/Brazil', 104000],\n",
       " ['South Korea/USA', 1228000000]]"
      ]
     },
     "execution_count": 71,
     "metadata": {},
     "output_type": "execute_result"
    }
   ],
   "source": [
    "SK_totales"
   ]
  },
  {
   "cell_type": "code",
   "execution_count": 72,
   "metadata": {},
   "outputs": [
    {
     "data": {
      "text/plain": [
       "[['South Korea/Vietnam', 6877007000],\n",
       " ['South Korea/Japan', 4594000000],\n",
       " ['South Korea/China', 1704000000],\n",
       " ['South Korea/USA', 1228000000],\n",
       " ['South Korea/Mexico', 218035000],\n",
       " ['South Korea/Brazil', 104000]]"
      ]
     },
     "execution_count": 72,
     "metadata": {},
     "output_type": "execute_result"
    }
   ],
   "source": [
    "ordenamiento(SK_totales)\n",
    "SK_totales"
   ]
  },
  {
   "cell_type": "code",
   "execution_count": 73,
   "metadata": {},
   "outputs": [
    {
     "data": {
      "text/plain": [
       "Russia     99\n",
       "Belgium    53\n",
       "Germany    52\n",
       "France     40\n",
       "Italy      26\n",
       "Brazil     25\n",
       "Name: destination, dtype: int64"
      ]
     },
     "execution_count": 73,
     "metadata": {},
     "output_type": "execute_result"
    }
   ],
   "source": [
    "Exp_Ori_Spain['destination'].value_counts()"
   ]
  },
  {
   "cell_type": "code",
   "execution_count": 74,
   "metadata": {},
   "outputs": [],
   "source": [
    "SPA_totales=[]\n",
    "for i in ['France','Germany','Russia','Belgium','Italy','Brazil']:\n",
    "    SPA_totales.append(['Spain/'+i,Exp_Ori_Spain[Exp_Ori_Spain['destination'].str.contains(i)]['total_value'].sum()])"
   ]
  },
  {
   "cell_type": "code",
   "execution_count": 75,
   "metadata": {},
   "outputs": [
    {
     "data": {
      "text/plain": [
       "[['Spain/France', 345000000],\n",
       " ['Spain/Germany', 583000000],\n",
       " ['Spain/Russia', 1085000000],\n",
       " ['Spain/Belgium', 613000000],\n",
       " ['Spain/Italy', 350000000],\n",
       " ['Spain/Brazil', 442000000]]"
      ]
     },
     "execution_count": 75,
     "metadata": {},
     "output_type": "execute_result"
    }
   ],
   "source": [
    "SPA_totales"
   ]
  },
  {
   "cell_type": "code",
   "execution_count": 76,
   "metadata": {},
   "outputs": [
    {
     "data": {
      "text/plain": [
       "[['Spain/Russia', 1085000000],\n",
       " ['Spain/Belgium', 613000000],\n",
       " ['Spain/Germany', 583000000],\n",
       " ['Spain/Brazil', 442000000],\n",
       " ['Spain/Italy', 350000000],\n",
       " ['Spain/France', 345000000]]"
      ]
     },
     "execution_count": 76,
     "metadata": {},
     "output_type": "execute_result"
    }
   ],
   "source": [
    "ordenamiento(SPA_totales)\n",
    "SPA_totales"
   ]
  },
  {
   "cell_type": "code",
   "execution_count": 77,
   "metadata": {},
   "outputs": [
    {
     "data": {
      "text/plain": [
       "Russia     73\n",
       "Germany    71\n",
       "France     60\n",
       "Italy      45\n",
       "Name: destination, dtype: int64"
      ]
     },
     "execution_count": 77,
     "metadata": {},
     "output_type": "execute_result"
    }
   ],
   "source": [
    "Exp_Ori_Switzerland['destination'].value_counts()"
   ]
  },
  {
   "cell_type": "code",
   "execution_count": 78,
   "metadata": {},
   "outputs": [],
   "source": [
    "SWI_totales=[]\n",
    "for i in ['France','Germany','Russia','Italy']:\n",
    "    SWI_totales.append(['Switzerland/'+i,Exp_Ori_Switzerland[Exp_Ori_Switzerland['destination'].str.contains(i)]['total_value'].sum()])"
   ]
  },
  {
   "cell_type": "code",
   "execution_count": 79,
   "metadata": {},
   "outputs": [
    {
     "data": {
      "text/plain": [
       "[['Switzerland/France', 510000000],\n",
       " ['Switzerland/Germany', 628000000],\n",
       " ['Switzerland/Russia', 650000000],\n",
       " ['Switzerland/Italy', 366000000]]"
      ]
     },
     "execution_count": 79,
     "metadata": {},
     "output_type": "execute_result"
    }
   ],
   "source": [
    "SWI_totales"
   ]
  },
  {
   "cell_type": "code",
   "execution_count": 80,
   "metadata": {},
   "outputs": [
    {
     "data": {
      "text/plain": [
       "[['Switzerland/Russia', 650000000],\n",
       " ['Switzerland/Germany', 628000000],\n",
       " ['Switzerland/France', 510000000],\n",
       " ['Switzerland/Italy', 366000000]]"
      ]
     },
     "execution_count": 80,
     "metadata": {},
     "output_type": "execute_result"
    }
   ],
   "source": [
    "ordenamiento(SWI_totales)\n",
    "SWI_totales"
   ]
  },
  {
   "cell_type": "code",
   "execution_count": 81,
   "metadata": {},
   "outputs": [
    {
     "data": {
      "text/plain": [
       "Netherlands             436\n",
       "Belgium                 211\n",
       "Mexico                  194\n",
       "United Arab Emirates    142\n",
       "Argentina               139\n",
       "Canada                  136\n",
       "Brazil                  101\n",
       "Singapore                75\n",
       "China                    30\n",
       "Name: destination, dtype: int64"
      ]
     },
     "execution_count": 81,
     "metadata": {},
     "output_type": "execute_result"
    }
   ],
   "source": [
    "Exp_Ori_USA['destination'].value_counts()"
   ]
  },
  {
   "cell_type": "code",
   "execution_count": 82,
   "metadata": {},
   "outputs": [],
   "source": [
    "USA_totales=[]\n",
    "for i in ['Netherlands','Belgium','Mexico','United Arab Emirates','Argentina','Canada','Brazil','Singapore','China']:\n",
    "    USA_totales.append(['USA/'+i,Exp_Ori_USA[Exp_Ori_USA['destination'].str.contains(i)]['total_value'].sum()])"
   ]
  },
  {
   "cell_type": "code",
   "execution_count": 83,
   "metadata": {},
   "outputs": [
    {
     "data": {
      "text/plain": [
       "[['USA/Netherlands', 1032187000],\n",
       " ['USA/Belgium', 2371000000],\n",
       " ['USA/Mexico', 4710000000],\n",
       " ['USA/United Arab Emirates', 119000],\n",
       " ['USA/Argentina', 3159000000],\n",
       " ['USA/Canada', 2412000000],\n",
       " ['USA/Brazil', 2384000000],\n",
       " ['USA/Singapore', 1599000000],\n",
       " ['USA/China', 688000000]]"
      ]
     },
     "execution_count": 83,
     "metadata": {},
     "output_type": "execute_result"
    }
   ],
   "source": [
    "USA_totales"
   ]
  },
  {
   "cell_type": "code",
   "execution_count": 84,
   "metadata": {},
   "outputs": [
    {
     "data": {
      "text/plain": [
       "[['USA/Mexico', 4710000000],\n",
       " ['USA/Argentina', 3159000000],\n",
       " ['USA/Canada', 2412000000],\n",
       " ['USA/Brazil', 2384000000],\n",
       " ['USA/Belgium', 2371000000],\n",
       " ['USA/Singapore', 1599000000],\n",
       " ['USA/Netherlands', 1032187000],\n",
       " ['USA/China', 688000000],\n",
       " ['USA/United Arab Emirates', 119000]]"
      ]
     },
     "execution_count": 84,
     "metadata": {},
     "output_type": "execute_result"
    }
   ],
   "source": [
    "ordenamiento(USA_totales)\n",
    "USA_totales"
   ]
  },
  {
   "cell_type": "markdown",
   "metadata": {},
   "source": [
    "### Vamos a checar las rutas con mas ganancias"
   ]
  },
  {
   "cell_type": "code",
   "execution_count": 85,
   "metadata": {},
   "outputs": [],
   "source": [
    "#Ordenamos por los primeros,segundos,terceros,...etc de todos los paises de origen.\n",
    "primero=[     \n",
    "Aus_totales[0],\n",
    "Bel_totales[0],\n",
    "BRA_totales[0],\n",
    "Can_totales[0],\n",
    "china_totales[0],\n",
    "Fra_totales[0],\n",
    "GER_totales[0],\n",
    "Ind_totales[0],\n",
    "Ita_totales[0],\n",
    "Jap_totales[0],\n",
    "Mex_totales[0],\n",
    "Neth_totales[0],\n",
    "Rus_totales[0],\n",
    "Sin_totales[0],\n",
    "SK_totales[0],\n",
    "SPA_totales[0],\n",
    "SWI_totales[0],\n",
    "USA_totales[0]\n",
    "]\n",
    "ordenamiento(primero)"
   ]
  },
  {
   "cell_type": "code",
   "execution_count": 86,
   "metadata": {},
   "outputs": [],
   "source": [
    "\n",
    "segundo=[\n",
    "Aus_totales[1],\n",
    "Bel_totales[1],\n",
    "BRA_totales[1],\n",
    "Can_totales[1],\n",
    "china_totales[1],\n",
    "Fra_totales[1],\n",
    "GER_totales[1],\n",
    "Ind_totales[1],\n",
    "Ita_totales[1],\n",
    "Jap_totales[1],\n",
    "Mex_totales[1],\n",
    "Neth_totales[1],\n",
    "Rus_totales[1],\n",
    "Sin_totales[1],\n",
    "SK_totales[1],\n",
    "SPA_totales[1],\n",
    "SWI_totales[1],\n",
    "USA_totales[1]\n",
    "]\n",
    "ordenamiento(segundo)"
   ]
  },
  {
   "cell_type": "code",
   "execution_count": 87,
   "metadata": {},
   "outputs": [],
   "source": [
    "\n",
    "tercero=[\n",
    "Aus_totales[2],\n",
    "Bel_totales[2],\n",
    "BRA_totales[2],\n",
    "Can_totales[2],\n",
    "china_totales[2],\n",
    "Fra_totales[2],\n",
    "GER_totales[2],\n",
    "Ind_totales[2],\n",
    "Ita_totales[2],\n",
    "Jap_totales[2],\n",
    "Mex_totales[2],\n",
    "Neth_totales[2],\n",
    "Rus_totales[2],\n",
    "Sin_totales[2],\n",
    "SK_totales[2],\n",
    "SPA_totales[2],\n",
    "SWI_totales[2],\n",
    "USA_totales[2]\n",
    "]\n",
    "ordenamiento(tercero)"
   ]
  },
  {
   "cell_type": "code",
   "execution_count": 88,
   "metadata": {},
   "outputs": [],
   "source": [
    "\n",
    "cuarto=[\n",
    "Aus_totales[3],\n",
    "Bel_totales[3],\n",
    "BRA_totales[3],\n",
    "Can_totales[3],\n",
    "china_totales[3],\n",
    "Fra_totales[3],\n",
    "GER_totales[3],\n",
    "Ind_totales[3],\n",
    "Ita_totales[3],\n",
    "Jap_totales[3],\n",
    "Mex_totales[3],\n",
    "Neth_totales[3],\n",
    "Rus_totales[3],\n",
    "Sin_totales[3],\n",
    "SK_totales[3],\n",
    "SPA_totales[3],\n",
    "SWI_totales[3],\n",
    "USA_totales[3]\n",
    "]\n",
    "ordenamiento(cuarto)"
   ]
  },
  {
   "cell_type": "code",
   "execution_count": 89,
   "metadata": {},
   "outputs": [],
   "source": [
    "\n",
    "quinto=[\n",
    "Aus_totales[4],\n",
    "#Bel_totales[4],\n",
    "BRA_totales[4],\n",
    "Can_totales[4],\n",
    "china_totales[4],\n",
    "Fra_totales[4],\n",
    "GER_totales[4],\n",
    "Ind_totales[4],\n",
    "Ita_totales[4],\n",
    "Jap_totales[4],\n",
    "Mex_totales[4],\n",
    "Neth_totales[4],\n",
    "Rus_totales[4],\n",
    "#Sin_totales[4],\n",
    "SK_totales[4],\n",
    "SPA_totales[4],\n",
    "#SWI_totales[4],\n",
    "USA_totales[4]\n",
    "]\n",
    "ordenamiento(quinto)"
   ]
  },
  {
   "cell_type": "code",
   "execution_count": 90,
   "metadata": {},
   "outputs": [
    {
     "data": {
      "text/plain": [
       "[['china /Mexico', 12250000000],\n",
       " ['Canada/Mexico', 8450000000],\n",
       " ['South Korea/Vietnam', 6877007000],\n",
       " ['Francia/Belgium', 5538069000],\n",
       " ['USA/Mexico', 4710000000],\n",
       " ['Germany/Italy', 4541000000],\n",
       " ['Rusia/Belorussia', 3529000000],\n",
       " ['Japan/Brazil', 3368155000],\n",
       " ['Netherlands/Belgium', 3238142000],\n",
       " ['Belgica/United Kingdom', 1632000000],\n",
       " ['Italy/Germany', 1415088000],\n",
       " ['Spain/Russia', 1085000000],\n",
       " ['Inida/United Arab Emirates', 1037000000],\n",
       " ['Brazil/Mexico', 689000000],\n",
       " ['Switzerland/Russia', 650000000],\n",
       " ['Mexico/USA', 585342000],\n",
       " ['Australia/Singapore', 493000000],\n",
       " ['Singapore/USA', 251000]]"
      ]
     },
     "execution_count": 90,
     "metadata": {},
     "output_type": "execute_result"
    }
   ],
   "source": [
    "primero"
   ]
  },
  {
   "cell_type": "code",
   "execution_count": 91,
   "metadata": {},
   "outputs": [
    {
     "data": {
      "text/plain": [
       "[['Francia/United Kingdom', 5427000000],\n",
       " ['china /South Korea', 4790000000],\n",
       " ['South Korea/Japan', 4594000000],\n",
       " ['USA/Argentina', 3159000000],\n",
       " ['Germany/France', 2902214000],\n",
       " ['Japan/China', 2550000000],\n",
       " ['Rusia/China', 2310000000],\n",
       " ['Italy/Spain', 871108000],\n",
       " ['Inida/China', 761000000],\n",
       " ['Netherlands/France', 739075000],\n",
       " ['Canada/China', 693000000],\n",
       " ['Switzerland/Germany', 628000000],\n",
       " ['Spain/Belgium', 613000000],\n",
       " ['Brazil/Argentina', 465000000],\n",
       " ['Mexico/Japan', 392000000],\n",
       " ['Australia/Philippines', 344000000],\n",
       " ['Belgica/France', 343000000],\n",
       " ['Singapore/Malaysia', 218000]]"
      ]
     },
     "execution_count": 91,
     "metadata": {},
     "output_type": "execute_result"
    }
   ],
   "source": [
    "segundo"
   ]
  },
  {
   "cell_type": "code",
   "execution_count": 92,
   "metadata": {},
   "outputs": [
    {
     "data": {
      "text/plain": [
       "[['china /Germany', 4090000000],\n",
       " ['Francia/USA', 3402000000],\n",
       " ['USA/Canada', 2412000000],\n",
       " ['Germany/China', 2167875000],\n",
       " ['Rusia/Germany', 2042000000],\n",
       " ['Japan/USA', 1965040000],\n",
       " ['South Korea/China', 1704000000],\n",
       " ['Italy/United Kingdom', 706038000],\n",
       " ['Canada/USA', 640000000],\n",
       " ['Spain/Germany', 583000000],\n",
       " ['Switzerland/France', 510000000],\n",
       " ['Inida/USA', 474000000],\n",
       " ['Brazil/Netherlands', 462000000],\n",
       " ['Australia/Thailand', 337000000],\n",
       " ['Belgica/Netherlands', 311000000],\n",
       " ['Mexico/Canada', 276949000],\n",
       " ['Netherlands/Germany', 143029000],\n",
       " ['Singapore/Japan', 152000]]"
      ]
     },
     "execution_count": 92,
     "metadata": {},
     "output_type": "execute_result"
    }
   ],
   "source": [
    "tercero"
   ]
  },
  {
   "cell_type": "code",
   "execution_count": 93,
   "metadata": {},
   "outputs": [
    {
     "data": {
      "text/plain": [
       "[['china /USA', 3797000000],\n",
       " ['USA/Brazil', 2384000000],\n",
       " ['Rusia/Netherlands', 1959000000],\n",
       " ['Francia/Germany', 1940035000],\n",
       " ['Japan/Mexico', 1911000000],\n",
       " ['South Korea/USA', 1228000000],\n",
       " ['Germany/South Korea', 902668000],\n",
       " ['Italy/Croatia', 699000000],\n",
       " ['Canada/Japan', 532000000],\n",
       " ['Spain/Brazil', 442000000],\n",
       " ['Brazil/China', 386000000],\n",
       " ['Switzerland/Italy', 366000000],\n",
       " ['Belgica/Germany', 302000000],\n",
       " ['Australia/United Kingdom', 220000000],\n",
       " ['Mexico/Brazil', 147433000],\n",
       " ['Inida/Germany', 137000000],\n",
       " ['Singapore/China', 63000],\n",
       " ['Netherlands/Brazil', 59000]]"
      ]
     },
     "execution_count": 93,
     "metadata": {},
     "output_type": "execute_result"
    }
   ],
   "source": [
    "cuarto"
   ]
  },
  {
   "cell_type": "code",
   "execution_count": 94,
   "metadata": {},
   "outputs": [
    {
     "data": {
      "text/plain": [
       "[['china /Japan', 2654000000],\n",
       " ['USA/Belgium', 2371000000],\n",
       " ['Francia/Spain', 1455058000],\n",
       " ['Rusia/Turkey', 1446000000],\n",
       " ['Japan/South Korea', 1226000000],\n",
       " ['Germany/USA', 795446000],\n",
       " ['Italy/Switzerland', 643094000],\n",
       " ['Spain/Italy', 350000000],\n",
       " ['Brazil/USA', 272000000],\n",
       " ['South Korea/Mexico', 218035000],\n",
       " ['Canada/Brazil', 206000000],\n",
       " ['Australia/Brazil', 172000000],\n",
       " ['Inida/Japan', 111000000],\n",
       " ['Mexico/New Zealand', 9382000],\n",
       " ['Netherlands/Argentina', 36000]]"
      ]
     },
     "execution_count": 94,
     "metadata": {},
     "output_type": "execute_result"
    }
   ],
   "source": [
    "quinto"
   ]
  },
  {
   "cell_type": "markdown",
   "metadata": {},
   "source": [
    "### Haciendo una comparación de entradas las diez rutas de exportación con mayores ingresos es:"
   ]
  },
  {
   "cell_type": "code",
   "execution_count": 95,
   "metadata": {},
   "outputs": [],
   "source": [
    "#creamos la lista con los 10 valores con mayores ingresos de exportación.\n",
    "top10_exp=[\n",
    "    primero[0],\n",
    "    primero[1],\n",
    "    primero[2],\n",
    "    primero[3],\n",
    "    segundo[0],\n",
    "    segundo[1],\n",
    "    primero[4],\n",
    "    segundo[2],\n",
    "    primero[5],\n",
    "    tercero[0]\n",
    "]"
   ]
  },
  {
   "cell_type": "code",
   "execution_count": 96,
   "metadata": {},
   "outputs": [
    {
     "data": {
      "text/plain": [
       "[['china /Mexico', 12250000000],\n",
       " ['Canada/Mexico', 8450000000],\n",
       " ['South Korea/Vietnam', 6877007000],\n",
       " ['Francia/Belgium', 5538069000],\n",
       " ['Francia/United Kingdom', 5427000000],\n",
       " ['china /South Korea', 4790000000],\n",
       " ['USA/Mexico', 4710000000],\n",
       " ['South Korea/Japan', 4594000000],\n",
       " ['Germany/Italy', 4541000000],\n",
       " ['china /Germany', 4090000000]]"
      ]
     },
     "execution_count": 96,
     "metadata": {},
     "output_type": "execute_result"
    }
   ],
   "source": [
    "top10_exp\n"
   ]
  },
  {
   "cell_type": "code",
   "execution_count": 97,
   "metadata": {},
   "outputs": [
    {
     "data": {
      "text/plain": [
       "[['china /Mexico', 12250000000],\n",
       " ['Canada/Mexico', 8450000000],\n",
       " ['South Korea/Vietnam', 6877007000],\n",
       " ['Francia/Belgium', 5538069000],\n",
       " ['Francia/United Kingdom', 5427000000],\n",
       " ['china /South Korea', 4790000000],\n",
       " ['USA/Mexico', 4710000000],\n",
       " ['South Korea/Japan', 4594000000],\n",
       " ['Germany/Italy', 4541000000],\n",
       " ['china /Germany', 4090000000]]"
      ]
     },
     "execution_count": 97,
     "metadata": {},
     "output_type": "execute_result"
    }
   ],
   "source": [
    "ordenamiento(top10_exp)\n",
    "top10_exp"
   ]
  },
  {
   "cell_type": "code",
   "execution_count": 98,
   "metadata": {},
   "outputs": [],
   "source": [
    "exp_top_nombres=[];exp_top_valores=[] #separamos esta lista con sus dos valores para poder graficar.\n",
    "for i in top10_exp:\n",
    "    exp_top_nombres.append(i[0])\n",
    "    exp_top_valores.append(i[1])"
   ]
  },
  {
   "cell_type": "code",
   "execution_count": 234,
   "metadata": {},
   "outputs": [
    {
     "data": {
      "image/png": "[encoded data removed]",
      "text/plain": [
       "<Figure size 720x504 with 1 Axes>"
      ]
     },
     "metadata": {
      "needs_background": "light"
     },
     "output_type": "display_data"
    }
   ],
   "source": [
    "plt.figure(figsize=(10,7))\n",
    "plt.barh(exp_top_nombres,exp_top_valores,color='lime')\n",
    "plt.ylabel('Rutas de exportación \\n (origen/destino)')\n",
    "plt.xlabel( 'Total de ingresos por ruta \"$\"' )\n",
    "plt.title('Exportaciones')\n",
    "plt.savefig('top10_exp',dpi=100,bbox_inches='tight')\n",
    "plt.show()"
   ]
  },
  {
   "cell_type": "markdown",
   "metadata": {},
   "source": [
    "# importaciones"
   ]
  },
  {
   "cell_type": "code",
   "execution_count": 100,
   "metadata": {},
   "outputs": [
    {
     "data": {
      "text/html": [
       "<div>\n",
       "<style scoped>\n",
       "    .dataframe tbody tr th:only-of-type {\n",
       "        vertical-align: middle;\n",
       "    }\n",
       "\n",
       "    .dataframe tbody tr th {\n",
       "        vertical-align: top;\n",
       "    }\n",
       "\n",
       "    .dataframe thead th {\n",
       "        text-align: right;\n",
       "    }\n",
       "</style>\n",
       "<table border=\"1\" class=\"dataframe\">\n",
       "  <thead>\n",
       "    <tr style=\"text-align: right;\">\n",
       "      <th></th>\n",
       "      <th>register_id</th>\n",
       "      <th>direction</th>\n",
       "      <th>origin</th>\n",
       "      <th>destination</th>\n",
       "      <th>year</th>\n",
       "      <th>date</th>\n",
       "      <th>product</th>\n",
       "      <th>transport_mode</th>\n",
       "      <th>company_name</th>\n",
       "      <th>total_value</th>\n",
       "    </tr>\n",
       "  </thead>\n",
       "  <tbody>\n",
       "    <tr>\n",
       "      <th>15408</th>\n",
       "      <td>15409</td>\n",
       "      <td>Imports</td>\n",
       "      <td>Mexico</td>\n",
       "      <td>USA</td>\n",
       "      <td>2015</td>\n",
       "      <td>31/01/15</td>\n",
       "      <td>Cars</td>\n",
       "      <td>Rail</td>\n",
       "      <td>Honda</td>\n",
       "      <td>3000000</td>\n",
       "    </tr>\n",
       "    <tr>\n",
       "      <th>15409</th>\n",
       "      <td>15410</td>\n",
       "      <td>Imports</td>\n",
       "      <td>Mexico</td>\n",
       "      <td>USA</td>\n",
       "      <td>2015</td>\n",
       "      <td>01/02/15</td>\n",
       "      <td>Cars</td>\n",
       "      <td>Rail</td>\n",
       "      <td>Honda</td>\n",
       "      <td>13000000</td>\n",
       "    </tr>\n",
       "    <tr>\n",
       "      <th>15410</th>\n",
       "      <td>15411</td>\n",
       "      <td>Imports</td>\n",
       "      <td>Mexico</td>\n",
       "      <td>USA</td>\n",
       "      <td>2015</td>\n",
       "      <td>02/02/15</td>\n",
       "      <td>Cars</td>\n",
       "      <td>Rail</td>\n",
       "      <td>Honda</td>\n",
       "      <td>40000000</td>\n",
       "    </tr>\n",
       "    <tr>\n",
       "      <th>15411</th>\n",
       "      <td>15412</td>\n",
       "      <td>Imports</td>\n",
       "      <td>Mexico</td>\n",
       "      <td>USA</td>\n",
       "      <td>2015</td>\n",
       "      <td>03/02/15</td>\n",
       "      <td>Cars</td>\n",
       "      <td>Rail</td>\n",
       "      <td>Honda</td>\n",
       "      <td>48000000</td>\n",
       "    </tr>\n",
       "    <tr>\n",
       "      <th>15412</th>\n",
       "      <td>15413</td>\n",
       "      <td>Imports</td>\n",
       "      <td>Mexico</td>\n",
       "      <td>USA</td>\n",
       "      <td>2015</td>\n",
       "      <td>04/02/15</td>\n",
       "      <td>Cars</td>\n",
       "      <td>Rail</td>\n",
       "      <td>Honda</td>\n",
       "      <td>44000000</td>\n",
       "    </tr>\n",
       "    <tr>\n",
       "      <th>...</th>\n",
       "      <td>...</td>\n",
       "      <td>...</td>\n",
       "      <td>...</td>\n",
       "      <td>...</td>\n",
       "      <td>...</td>\n",
       "      <td>...</td>\n",
       "      <td>...</td>\n",
       "      <td>...</td>\n",
       "      <td>...</td>\n",
       "      <td>...</td>\n",
       "    </tr>\n",
       "    <tr>\n",
       "      <th>19051</th>\n",
       "      <td>19052</td>\n",
       "      <td>Imports</td>\n",
       "      <td>Japan</td>\n",
       "      <td>Singapore</td>\n",
       "      <td>2020</td>\n",
       "      <td>27/06/20</td>\n",
       "      <td>Gas turbines</td>\n",
       "      <td>Sea</td>\n",
       "      <td>Union Energy Co</td>\n",
       "      <td>1000000</td>\n",
       "    </tr>\n",
       "    <tr>\n",
       "      <th>19052</th>\n",
       "      <td>19053</td>\n",
       "      <td>Imports</td>\n",
       "      <td>Malaysia</td>\n",
       "      <td>Singapore</td>\n",
       "      <td>2020</td>\n",
       "      <td>28/06/20</td>\n",
       "      <td>Gas turbines</td>\n",
       "      <td>Sea</td>\n",
       "      <td>Union Energy Co</td>\n",
       "      <td>2000000</td>\n",
       "    </tr>\n",
       "    <tr>\n",
       "      <th>19053</th>\n",
       "      <td>19054</td>\n",
       "      <td>Imports</td>\n",
       "      <td>Malaysia</td>\n",
       "      <td>Singapore</td>\n",
       "      <td>2020</td>\n",
       "      <td>29/06/20</td>\n",
       "      <td>Gas turbines</td>\n",
       "      <td>Sea</td>\n",
       "      <td>Union Energy Co</td>\n",
       "      <td>33000000</td>\n",
       "    </tr>\n",
       "    <tr>\n",
       "      <th>19054</th>\n",
       "      <td>19055</td>\n",
       "      <td>Imports</td>\n",
       "      <td>Malaysia</td>\n",
       "      <td>Singapore</td>\n",
       "      <td>2020</td>\n",
       "      <td>30/06/20</td>\n",
       "      <td>Gas turbines</td>\n",
       "      <td>Sea</td>\n",
       "      <td>Union Energy Co</td>\n",
       "      <td>13000000</td>\n",
       "    </tr>\n",
       "    <tr>\n",
       "      <th>19055</th>\n",
       "      <td>19056</td>\n",
       "      <td>Imports</td>\n",
       "      <td>Malaysia</td>\n",
       "      <td>Singapore</td>\n",
       "      <td>2020</td>\n",
       "      <td>01/07/20</td>\n",
       "      <td>Gas turbines</td>\n",
       "      <td>Sea</td>\n",
       "      <td>Union Energy Co</td>\n",
       "      <td>30000000</td>\n",
       "    </tr>\n",
       "  </tbody>\n",
       "</table>\n",
       "<p>3648 rows × 10 columns</p>\n",
       "</div>"
      ],
      "text/plain": [
       "       register_id direction    origin destination  year      date  \\\n",
       "15408        15409   Imports    Mexico         USA  2015  31/01/15   \n",
       "15409        15410   Imports    Mexico         USA  2015  01/02/15   \n",
       "15410        15411   Imports    Mexico         USA  2015  02/02/15   \n",
       "15411        15412   Imports    Mexico         USA  2015  03/02/15   \n",
       "15412        15413   Imports    Mexico         USA  2015  04/02/15   \n",
       "...            ...       ...       ...         ...   ...       ...   \n",
       "19051        19052   Imports     Japan   Singapore  2020  27/06/20   \n",
       "19052        19053   Imports  Malaysia   Singapore  2020  28/06/20   \n",
       "19053        19054   Imports  Malaysia   Singapore  2020  29/06/20   \n",
       "19054        19055   Imports  Malaysia   Singapore  2020  30/06/20   \n",
       "19055        19056   Imports  Malaysia   Singapore  2020  01/07/20   \n",
       "\n",
       "            product transport_mode     company_name  total_value  \n",
       "15408          Cars           Rail            Honda      3000000  \n",
       "15409          Cars           Rail            Honda     13000000  \n",
       "15410          Cars           Rail            Honda     40000000  \n",
       "15411          Cars           Rail            Honda     48000000  \n",
       "15412          Cars           Rail            Honda     44000000  \n",
       "...             ...            ...              ...          ...  \n",
       "19051  Gas turbines            Sea  Union Energy Co      1000000  \n",
       "19052  Gas turbines            Sea  Union Energy Co      2000000  \n",
       "19053  Gas turbines            Sea  Union Energy Co     33000000  \n",
       "19054  Gas turbines            Sea  Union Energy Co     13000000  \n",
       "19055  Gas turbines            Sea  Union Energy Co     30000000  \n",
       "\n",
       "[3648 rows x 10 columns]"
      ]
     },
     "execution_count": 100,
     "metadata": {},
     "output_type": "execute_result"
    }
   ],
   "source": [
    "Imports"
   ]
  },
  {
   "cell_type": "code",
   "execution_count": 101,
   "metadata": {},
   "outputs": [
    {
     "data": {
      "text/plain": [
       "Thailand                832\n",
       "China                   495\n",
       "Mexico                  432\n",
       "Japan                   414\n",
       "Germany                 355\n",
       "United Arab Emirates    259\n",
       "Canada                  254\n",
       "USA                     201\n",
       "Poland                  177\n",
       "India                   157\n",
       "Singapore                72\n",
       "Name: destination, dtype: int64"
      ]
     },
     "execution_count": 101,
     "metadata": {},
     "output_type": "execute_result"
    }
   ],
   "source": [
    "Imports['destination'].value_counts() #del mismo modo trabajamos para importaciones, esta vez nuestros paises  estudiar son los de destino "
   ]
  },
  {
   "cell_type": "code",
   "execution_count": 102,
   "metadata": {},
   "outputs": [],
   "source": [
    "im=Imports['destination'].value_counts() #hacemos variable esta DF unicamente para graficar"
   ]
  },
  {
   "cell_type": "code",
   "execution_count": 235,
   "metadata": {},
   "outputs": [
    {
     "data": {
      "image/png": "[encoded data removed]",
      "text/plain": [
       "<Figure size 720x504 with 1 Axes>"
      ]
     },
     "metadata": {
      "needs_background": "light"
     },
     "output_type": "display_data"
    }
   ],
   "source": [
    "plt.figure(figsize=(10,7))\n",
    "im.plot.bar()\n",
    "plt.xlabel('Países')\n",
    "plt.ylabel('Numero de importaciones ´por país')\n",
    "plt.title('Importaciones')\n",
    "plt.savefig('num_imp.png',dpi=100,bbox_inches='tight')\n",
    "plt.show()"
   ]
  },
  {
   "cell_type": "code",
   "execution_count": 104,
   "metadata": {},
   "outputs": [],
   "source": [
    "Imp_dest_Thailand=Imports[Imports['destination'].str.contains('Thailand')] #separamos diferentes Df para cada país destino\n",
    "Imp_dest_China=Imports[Imports['destination'].str.contains('China')]\n",
    "Imp_dest_Mexico=Imports[Imports['destination'].str.contains('Mexico')]\n",
    "Imp_dest_Japan=Imports[Imports['destination'].str.contains('Japan')]\n",
    "Imp_dest_Germany=Imports[Imports['destination'].str.contains('Germany')]\n",
    "Imp_dest_United_Arab_Emirates=Imports[Imports['destination'].str.contains('United Arab Emirates')]\n",
    "Imp_dest_Canada=Imports[Imports['destination'].str.contains('Canada')]\n",
    "Imp_dest_USA=Imports[Imports['destination'].str.contains('USA')]\n",
    "Imp_dest_Poland=Imports[Imports['destination'].str.contains('Poland')]\n",
    "Imp_dest_India=Imports[Imports['destination'].str.contains('India')]\n",
    "Imp_dest_Singapore=Imports[Imports['destination'].str.contains('Singapore')]\n"
   ]
  },
  {
   "cell_type": "code",
   "execution_count": 105,
   "metadata": {},
   "outputs": [
    {
     "data": {
      "text/html": [
       "<div>\n",
       "<style scoped>\n",
       "    .dataframe tbody tr th:only-of-type {\n",
       "        vertical-align: middle;\n",
       "    }\n",
       "\n",
       "    .dataframe tbody tr th {\n",
       "        vertical-align: top;\n",
       "    }\n",
       "\n",
       "    .dataframe thead th {\n",
       "        text-align: right;\n",
       "    }\n",
       "</style>\n",
       "<table border=\"1\" class=\"dataframe\">\n",
       "  <thead>\n",
       "    <tr style=\"text-align: right;\">\n",
       "      <th></th>\n",
       "      <th>register_id</th>\n",
       "      <th>direction</th>\n",
       "      <th>origin</th>\n",
       "      <th>destination</th>\n",
       "      <th>year</th>\n",
       "      <th>date</th>\n",
       "      <th>product</th>\n",
       "      <th>transport_mode</th>\n",
       "      <th>company_name</th>\n",
       "      <th>total_value</th>\n",
       "    </tr>\n",
       "  </thead>\n",
       "  <tbody>\n",
       "    <tr>\n",
       "      <th>17458</th>\n",
       "      <td>17459</td>\n",
       "      <td>Imports</td>\n",
       "      <td>Mexico</td>\n",
       "      <td>Canada</td>\n",
       "      <td>2016</td>\n",
       "      <td>13/04/16</td>\n",
       "      <td>Vegetables</td>\n",
       "      <td>Sea</td>\n",
       "      <td>Fruit &amp; Vegetable Inc</td>\n",
       "      <td>5000000</td>\n",
       "    </tr>\n",
       "    <tr>\n",
       "      <th>17459</th>\n",
       "      <td>17460</td>\n",
       "      <td>Imports</td>\n",
       "      <td>Mexico</td>\n",
       "      <td>Canada</td>\n",
       "      <td>2016</td>\n",
       "      <td>14/04/16</td>\n",
       "      <td>Vegetables</td>\n",
       "      <td>Sea</td>\n",
       "      <td>Fruit &amp; Vegetable Inc</td>\n",
       "      <td>5000000</td>\n",
       "    </tr>\n",
       "    <tr>\n",
       "      <th>17460</th>\n",
       "      <td>17461</td>\n",
       "      <td>Imports</td>\n",
       "      <td>Mexico</td>\n",
       "      <td>Canada</td>\n",
       "      <td>2016</td>\n",
       "      <td>15/04/16</td>\n",
       "      <td>Vegetables</td>\n",
       "      <td>Sea</td>\n",
       "      <td>Fruit &amp; Vegetable Inc</td>\n",
       "      <td>4000000</td>\n",
       "    </tr>\n",
       "    <tr>\n",
       "      <th>17461</th>\n",
       "      <td>17462</td>\n",
       "      <td>Imports</td>\n",
       "      <td>Mexico</td>\n",
       "      <td>Canada</td>\n",
       "      <td>2016</td>\n",
       "      <td>16/04/16</td>\n",
       "      <td>Vegetables</td>\n",
       "      <td>Sea</td>\n",
       "      <td>Fruit &amp; Vegetable Inc</td>\n",
       "      <td>1000000</td>\n",
       "    </tr>\n",
       "    <tr>\n",
       "      <th>17462</th>\n",
       "      <td>17463</td>\n",
       "      <td>Imports</td>\n",
       "      <td>Mexico</td>\n",
       "      <td>Canada</td>\n",
       "      <td>2016</td>\n",
       "      <td>17/04/16</td>\n",
       "      <td>Vegetables</td>\n",
       "      <td>Sea</td>\n",
       "      <td>Fruit &amp; Vegetable Inc</td>\n",
       "      <td>2000000</td>\n",
       "    </tr>\n",
       "    <tr>\n",
       "      <th>...</th>\n",
       "      <td>...</td>\n",
       "      <td>...</td>\n",
       "      <td>...</td>\n",
       "      <td>...</td>\n",
       "      <td>...</td>\n",
       "      <td>...</td>\n",
       "      <td>...</td>\n",
       "      <td>...</td>\n",
       "      <td>...</td>\n",
       "      <td>...</td>\n",
       "    </tr>\n",
       "    <tr>\n",
       "      <th>17707</th>\n",
       "      <td>17708</td>\n",
       "      <td>Imports</td>\n",
       "      <td>USA</td>\n",
       "      <td>Canada</td>\n",
       "      <td>2018</td>\n",
       "      <td>22/02/18</td>\n",
       "      <td>Cars</td>\n",
       "      <td>Rail</td>\n",
       "      <td>Ford Motor Company</td>\n",
       "      <td>7000000</td>\n",
       "    </tr>\n",
       "    <tr>\n",
       "      <th>17708</th>\n",
       "      <td>17709</td>\n",
       "      <td>Imports</td>\n",
       "      <td>Mexico</td>\n",
       "      <td>Canada</td>\n",
       "      <td>2018</td>\n",
       "      <td>23/02/18</td>\n",
       "      <td>Vegetables</td>\n",
       "      <td>Sea</td>\n",
       "      <td>Fruit &amp; Vegetable Inc</td>\n",
       "      <td>4000000</td>\n",
       "    </tr>\n",
       "    <tr>\n",
       "      <th>17709</th>\n",
       "      <td>17710</td>\n",
       "      <td>Imports</td>\n",
       "      <td>Mexico</td>\n",
       "      <td>Canada</td>\n",
       "      <td>2018</td>\n",
       "      <td>24/02/18</td>\n",
       "      <td>Vegetables</td>\n",
       "      <td>Sea</td>\n",
       "      <td>Fruit &amp; Vegetable Inc</td>\n",
       "      <td>1000000</td>\n",
       "    </tr>\n",
       "    <tr>\n",
       "      <th>17710</th>\n",
       "      <td>17711</td>\n",
       "      <td>Imports</td>\n",
       "      <td>Mexico</td>\n",
       "      <td>Canada</td>\n",
       "      <td>2018</td>\n",
       "      <td>25/02/18</td>\n",
       "      <td>Vegetables</td>\n",
       "      <td>Sea</td>\n",
       "      <td>Fruit &amp; Vegetable Inc</td>\n",
       "      <td>1000000</td>\n",
       "    </tr>\n",
       "    <tr>\n",
       "      <th>17711</th>\n",
       "      <td>17712</td>\n",
       "      <td>Imports</td>\n",
       "      <td>Mexico</td>\n",
       "      <td>Canada</td>\n",
       "      <td>2018</td>\n",
       "      <td>26/02/18</td>\n",
       "      <td>Vegetables</td>\n",
       "      <td>Sea</td>\n",
       "      <td>Fruit &amp; Vegetable Inc</td>\n",
       "      <td>11000000</td>\n",
       "    </tr>\n",
       "  </tbody>\n",
       "</table>\n",
       "<p>254 rows × 10 columns</p>\n",
       "</div>"
      ],
      "text/plain": [
       "       register_id direction  origin destination  year      date     product  \\\n",
       "17458        17459   Imports  Mexico      Canada  2016  13/04/16  Vegetables   \n",
       "17459        17460   Imports  Mexico      Canada  2016  14/04/16  Vegetables   \n",
       "17460        17461   Imports  Mexico      Canada  2016  15/04/16  Vegetables   \n",
       "17461        17462   Imports  Mexico      Canada  2016  16/04/16  Vegetables   \n",
       "17462        17463   Imports  Mexico      Canada  2016  17/04/16  Vegetables   \n",
       "...            ...       ...     ...         ...   ...       ...         ...   \n",
       "17707        17708   Imports     USA      Canada  2018  22/02/18        Cars   \n",
       "17708        17709   Imports  Mexico      Canada  2018  23/02/18  Vegetables   \n",
       "17709        17710   Imports  Mexico      Canada  2018  24/02/18  Vegetables   \n",
       "17710        17711   Imports  Mexico      Canada  2018  25/02/18  Vegetables   \n",
       "17711        17712   Imports  Mexico      Canada  2018  26/02/18  Vegetables   \n",
       "\n",
       "      transport_mode           company_name  total_value  \n",
       "17458            Sea  Fruit & Vegetable Inc      5000000  \n",
       "17459            Sea  Fruit & Vegetable Inc      5000000  \n",
       "17460            Sea  Fruit & Vegetable Inc      4000000  \n",
       "17461            Sea  Fruit & Vegetable Inc      1000000  \n",
       "17462            Sea  Fruit & Vegetable Inc      2000000  \n",
       "...              ...                    ...          ...  \n",
       "17707           Rail     Ford Motor Company      7000000  \n",
       "17708            Sea  Fruit & Vegetable Inc      4000000  \n",
       "17709            Sea  Fruit & Vegetable Inc      1000000  \n",
       "17710            Sea  Fruit & Vegetable Inc      1000000  \n",
       "17711            Sea  Fruit & Vegetable Inc     11000000  \n",
       "\n",
       "[254 rows x 10 columns]"
      ]
     },
     "execution_count": 105,
     "metadata": {},
     "output_type": "execute_result"
    }
   ],
   "source": [
    "Imp_dest_Canada"
   ]
  },
  {
   "cell_type": "code",
   "execution_count": 106,
   "metadata": {},
   "outputs": [
    {
     "data": {
      "text/plain": [
       "USA               81\n",
       "Japan             70\n",
       "United Kingdom    58\n",
       "Mexico            45\n",
       "Name: origin, dtype: int64"
      ]
     },
     "execution_count": 106,
     "metadata": {},
     "output_type": "execute_result"
    }
   ],
   "source": [
    "Imp_dest_Canada['origin'].value_counts() #ahora contamos los paises origen para cada pais destino."
   ]
  },
  {
   "cell_type": "code",
   "execution_count": 107,
   "metadata": {},
   "outputs": [],
   "source": [
    "Imp_Can_totales=[] #se procede del mismo modo al ya antes visto en exportaciones.Esto para todos los paises destino.\n",
    "for i in ['USA','Japan','United Kingdom','Mexico']:\n",
    "    Imp_Can_totales.append(['destino:Canada/'+i,Imp_dest_Canada[Imp_dest_Canada['origin'].str.contains(i)]['total_value'].sum()])"
   ]
  },
  {
   "cell_type": "code",
   "execution_count": 108,
   "metadata": {},
   "outputs": [
    {
     "data": {
      "text/plain": [
       "[['destino:Canada/USA', 348000000],\n",
       " ['destino:Canada/Japan', 278000000],\n",
       " ['destino:Canada/United Kingdom', 248000000],\n",
       " ['destino:Canada/Mexico', 178000000]]"
      ]
     },
     "execution_count": 108,
     "metadata": {},
     "output_type": "execute_result"
    }
   ],
   "source": [
    "Imp_Can_totales"
   ]
  },
  {
   "cell_type": "code",
   "execution_count": 109,
   "metadata": {},
   "outputs": [
    {
     "data": {
      "text/plain": [
       "[['destino:Canada/USA', 348000000],\n",
       " ['destino:Canada/Japan', 278000000],\n",
       " ['destino:Canada/United Kingdom', 248000000],\n",
       " ['destino:Canada/Mexico', 178000000]]"
      ]
     },
     "execution_count": 109,
     "metadata": {},
     "output_type": "execute_result"
    }
   ],
   "source": [
    "ordenamiento(Imp_Can_totales)\n",
    "Imp_Can_totales"
   ]
  },
  {
   "cell_type": "code",
   "execution_count": 110,
   "metadata": {},
   "outputs": [
    {
     "data": {
      "text/plain": [
       "Germany    233\n",
       "Brazil     113\n",
       "Mexico     100\n",
       "USA         49\n",
       "Name: origin, dtype: int64"
      ]
     },
     "execution_count": 110,
     "metadata": {},
     "output_type": "execute_result"
    }
   ],
   "source": [
    "Imp_dest_China['origin'].value_counts()"
   ]
  },
  {
   "cell_type": "code",
   "execution_count": 111,
   "metadata": {},
   "outputs": [],
   "source": [
    "Imp_China_totales=[]\n",
    "for i in ['USA','Mexico','Germany','Brazil']:\n",
    "    Imp_China_totales.append(['destino:China/'+i,Imp_dest_China[Imp_dest_China['origin'].str.contains(i)]['total_value'].sum()])"
   ]
  },
  {
   "cell_type": "code",
   "execution_count": 112,
   "metadata": {},
   "outputs": [
    {
     "data": {
      "text/plain": [
       "[['destino:China/Germany', 1328000000],\n",
       " ['destino:China/Mexico', 590000000],\n",
       " ['destino:China/Brazil', 413000000],\n",
       " ['destino:China/USA', 241000000]]"
      ]
     },
     "execution_count": 112,
     "metadata": {},
     "output_type": "execute_result"
    }
   ],
   "source": [
    "ordenamiento(Imp_China_totales)\n",
    "Imp_China_totales"
   ]
  },
  {
   "cell_type": "code",
   "execution_count": 113,
   "metadata": {},
   "outputs": [
    {
     "data": {
      "text/plain": [
       "Spain          142\n",
       "France          86\n",
       "USA             58\n",
       "Mexico          34\n",
       "South Korea     29\n",
       "Brazil           6\n",
       "Name: origin, dtype: int64"
      ]
     },
     "execution_count": 113,
     "metadata": {},
     "output_type": "execute_result"
    }
   ],
   "source": [
    "Imp_dest_Germany['origin'].value_counts()"
   ]
  },
  {
   "cell_type": "code",
   "execution_count": 114,
   "metadata": {},
   "outputs": [],
   "source": [
    "Imp_Germany_totales=[]\n",
    "for i in ['USA','Mexico','Spain','France','South Korea','Brazil']:\n",
    "    Imp_Germany_totales.append(['destino:Germany/'+i,Imp_dest_Germany[Imp_dest_Germany['origin'].str.contains(i)]['total_value'].sum()])"
   ]
  },
  {
   "cell_type": "code",
   "execution_count": 115,
   "metadata": {},
   "outputs": [
    {
     "data": {
      "text/plain": [
       "[['destino:Germany/Spain', 2044000000],\n",
       " ['destino:Germany/USA', 1620000000],\n",
       " ['destino:Germany/South Korea', 738000000],\n",
       " ['destino:Germany/Mexico', 345000000],\n",
       " ['destino:Germany/France', 286000000],\n",
       " ['destino:Germany/Brazil', 76000000]]"
      ]
     },
     "execution_count": 115,
     "metadata": {},
     "output_type": "execute_result"
    }
   ],
   "source": [
    "ordenamiento(Imp_Germany_totales)\n",
    "Imp_Germany_totales"
   ]
  },
  {
   "cell_type": "code",
   "execution_count": 116,
   "metadata": {},
   "outputs": [
    {
     "data": {
      "text/plain": [
       "USA                     57\n",
       "Russia                  42\n",
       "Germany                 30\n",
       "United Arab Emirates    20\n",
       "Japan                    8\n",
       "Name: origin, dtype: int64"
      ]
     },
     "execution_count": 116,
     "metadata": {},
     "output_type": "execute_result"
    }
   ],
   "source": [
    "Imp_dest_India['origin'].value_counts()"
   ]
  },
  {
   "cell_type": "code",
   "execution_count": 117,
   "metadata": {},
   "outputs": [],
   "source": [
    "Imp_India_totales=[]\n",
    "for i in ['USA','Japan','Russia','Germany','United Arab Emirates']:\n",
    "    Imp_India_totales.append(['destino:India/'+i,Imp_dest_India[Imp_dest_India['origin'].str.contains(i)]['total_value'].sum()])"
   ]
  },
  {
   "cell_type": "code",
   "execution_count": 118,
   "metadata": {},
   "outputs": [
    {
     "data": {
      "text/plain": [
       "[['destino:India/USA', 1133000000],\n",
       " ['destino:India/Russia', 851000000],\n",
       " ['destino:India/Germany', 548000000],\n",
       " ['destino:India/United Arab Emirates', 371000000],\n",
       " ['destino:India/Japan', 115000000]]"
      ]
     },
     "execution_count": 118,
     "metadata": {},
     "output_type": "execute_result"
    }
   ],
   "source": [
    "ordenamiento(Imp_India_totales)\n",
    "Imp_India_totales"
   ]
  },
  {
   "cell_type": "code",
   "execution_count": 119,
   "metadata": {},
   "outputs": [
    {
     "data": {
      "text/plain": [
       "China          210\n",
       "Australia      102\n",
       "Mexico          65\n",
       "USA             22\n",
       "South Korea     15\n",
       "Name: origin, dtype: int64"
      ]
     },
     "execution_count": 119,
     "metadata": {},
     "output_type": "execute_result"
    }
   ],
   "source": [
    "Imp_dest_Japan['origin'].value_counts()"
   ]
  },
  {
   "cell_type": "code",
   "execution_count": 120,
   "metadata": {},
   "outputs": [],
   "source": [
    "Imp_Jap_totales=[]\n",
    "for i in ['USA','Mexico','China','Australia','South Korea']:\n",
    "    Imp_Jap_totales.append(['destino:Japan/'+i,Imp_dest_Japan[Imp_dest_Japan['origin'].str.contains(i)]['total_value'].sum()])"
   ]
  },
  {
   "cell_type": "code",
   "execution_count": 121,
   "metadata": {},
   "outputs": [
    {
     "data": {
      "text/plain": [
       "[['destino:Japan/China', 3237000000],\n",
       " ['destino:Japan/Mexico', 1143000000],\n",
       " ['destino:Japan/Australia', 920000000],\n",
       " ['destino:Japan/USA', 381000000],\n",
       " ['destino:Japan/South Korea', 147000000]]"
      ]
     },
     "execution_count": 121,
     "metadata": {},
     "output_type": "execute_result"
    }
   ],
   "source": [
    "ordenamiento(Imp_Jap_totales)\n",
    "Imp_Jap_totales"
   ]
  },
  {
   "cell_type": "code",
   "execution_count": 122,
   "metadata": {},
   "outputs": [
    {
     "data": {
      "text/plain": [
       "Japan          206\n",
       "Germany         70\n",
       "South Korea     66\n",
       "Spain           41\n",
       "Italy           28\n",
       "China           21\n",
       "Name: origin, dtype: int64"
      ]
     },
     "execution_count": 122,
     "metadata": {},
     "output_type": "execute_result"
    }
   ],
   "source": [
    "Imp_dest_Mexico['origin'].value_counts()"
   ]
  },
  {
   "cell_type": "code",
   "execution_count": 123,
   "metadata": {},
   "outputs": [],
   "source": [
    "Imp_Mex_totales=[]\n",
    "for i in ['Japan','Germany','South Korea','Spain','Italy','China']:\n",
    "    Imp_Mex_totales.append(['destino:Mexico/'+i,Imp_dest_Mexico[Imp_dest_Mexico['origin'].str.contains(i)]['total_value'].sum()])"
   ]
  },
  {
   "cell_type": "code",
   "execution_count": 124,
   "metadata": {},
   "outputs": [
    {
     "data": {
      "text/plain": [
       "[['destino:Mexico/Japan', 3918000000],\n",
       " ['destino:Mexico/Germany', 1804000000],\n",
       " ['destino:Mexico/South Korea', 1291000000],\n",
       " ['destino:Mexico/Spain', 957000000],\n",
       " ['destino:Mexico/Italy', 680000000],\n",
       " ['destino:Mexico/China', 244000000]]"
      ]
     },
     "execution_count": 124,
     "metadata": {},
     "output_type": "execute_result"
    }
   ],
   "source": [
    "ordenamiento(Imp_Mex_totales)\n",
    "Imp_Mex_totales"
   ]
  },
  {
   "cell_type": "code",
   "execution_count": 125,
   "metadata": {},
   "outputs": [
    {
     "data": {
      "text/plain": [
       "France     83\n",
       "Italy      58\n",
       "Germany    36\n",
       "Name: origin, dtype: int64"
      ]
     },
     "execution_count": 125,
     "metadata": {},
     "output_type": "execute_result"
    }
   ],
   "source": [
    "Imp_dest_Poland['origin'].value_counts()"
   ]
  },
  {
   "cell_type": "code",
   "execution_count": 126,
   "metadata": {},
   "outputs": [],
   "source": [
    "Imp_Poland_totales=[]\n",
    "for i in ['France','Italy','Germany']:\n",
    "    Imp_Poland_totales.append(['destino:Poland/'+i,Imp_dest_Poland[Imp_dest_Poland['origin'].str.contains(i)]['total_value'].sum()])"
   ]
  },
  {
   "cell_type": "code",
   "execution_count": 127,
   "metadata": {},
   "outputs": [
    {
     "data": {
      "text/plain": [
       "[['destino:Poland/France', 1030000000],\n",
       " ['destino:Poland/Italy', 588000000],\n",
       " ['destino:Poland/Germany', 570000000]]"
      ]
     },
     "execution_count": 127,
     "metadata": {},
     "output_type": "execute_result"
    }
   ],
   "source": [
    "ordenamiento(Imp_Poland_totales)\n",
    "Imp_Poland_totales"
   ]
  },
  {
   "cell_type": "code",
   "execution_count": 128,
   "metadata": {},
   "outputs": [
    {
     "data": {
      "text/plain": [
       "China       55\n",
       "Japan       13\n",
       "Malaysia     4\n",
       "Name: origin, dtype: int64"
      ]
     },
     "execution_count": 128,
     "metadata": {},
     "output_type": "execute_result"
    }
   ],
   "source": [
    "Imp_dest_Singapore['origin'].value_counts()"
   ]
  },
  {
   "cell_type": "code",
   "execution_count": 129,
   "metadata": {},
   "outputs": [],
   "source": [
    "Imp_singa_totales=[]\n",
    "for i in ['China','Japan','Malaysia']:\n",
    "    Imp_singa_totales.append(['destino:Singapore/'+i,Imp_dest_Singapore[Imp_dest_Singapore['origin'].str.contains(i)]['total_value'].sum()])"
   ]
  },
  {
   "cell_type": "code",
   "execution_count": 130,
   "metadata": {},
   "outputs": [
    {
     "data": {
      "text/plain": [
       "[['destino:Singapore/China', 1267000000],\n",
       " ['destino:Singapore/Japan', 171000000],\n",
       " ['destino:Singapore/Malaysia', 78000000]]"
      ]
     },
     "execution_count": 130,
     "metadata": {},
     "output_type": "execute_result"
    }
   ],
   "source": [
    "ordenamiento(Imp_singa_totales)\n",
    "Imp_singa_totales"
   ]
  },
  {
   "cell_type": "code",
   "execution_count": 131,
   "metadata": {},
   "outputs": [
    {
     "data": {
      "text/plain": [
       "Singapore    273\n",
       "China        200\n",
       "Malaysia     195\n",
       "USA          109\n",
       "Japan         55\n",
       "Name: origin, dtype: int64"
      ]
     },
     "execution_count": 131,
     "metadata": {},
     "output_type": "execute_result"
    }
   ],
   "source": [
    "Imp_dest_Thailand['origin'].value_counts()"
   ]
  },
  {
   "cell_type": "code",
   "execution_count": 132,
   "metadata": {},
   "outputs": [],
   "source": [
    "Imp_Thai_totales=[]\n",
    "for i in ['USA','Japan','Singapore','China','Malaysia']:\n",
    "    Imp_Thai_totales.append(['destino:Thailand/'+i,Imp_dest_Thailand[Imp_dest_Thailand['origin'].str.contains(i)]['total_value'].sum()])"
   ]
  },
  {
   "cell_type": "code",
   "execution_count": 133,
   "metadata": {},
   "outputs": [
    {
     "data": {
      "text/plain": [
       "[['destino:Thailand/Singapore', 4017000000],\n",
       " ['destino:Thailand/China', 3831000000],\n",
       " ['destino:Thailand/Malaysia', 3482000000],\n",
       " ['destino:Thailand/USA', 1568000000],\n",
       " ['destino:Thailand/Japan', 847000000]]"
      ]
     },
     "execution_count": 133,
     "metadata": {},
     "output_type": "execute_result"
    }
   ],
   "source": [
    "ordenamiento(Imp_Thai_totales)\n",
    "Imp_Thai_totales"
   ]
  },
  {
   "cell_type": "code",
   "execution_count": 134,
   "metadata": {},
   "outputs": [
    {
     "data": {
      "text/plain": [
       "China          114\n",
       "Japan           76\n",
       "South Korea     51\n",
       "Vietnam         18\n",
       "Name: origin, dtype: int64"
      ]
     },
     "execution_count": 134,
     "metadata": {},
     "output_type": "execute_result"
    }
   ],
   "source": [
    "Imp_dest_United_Arab_Emirates['origin'].value_counts()"
   ]
  },
  {
   "cell_type": "code",
   "execution_count": 135,
   "metadata": {},
   "outputs": [],
   "source": [
    "Imp_UAE_totales=[]\n",
    "for i in ['Japan','China','South Korea','Vietnam']:\n",
    "    Imp_UAE_totales.append(['destino:UAE/'+i,Imp_dest_United_Arab_Emirates[Imp_dest_United_Arab_Emirates['origin'].str.contains(i)]['total_value'].sum()])"
   ]
  },
  {
   "cell_type": "code",
   "execution_count": 136,
   "metadata": {},
   "outputs": [
    {
     "data": {
      "text/plain": [
       "[['destino:UAE/China', 3357000000],\n",
       " ['destino:UAE/Japan', 2238000000],\n",
       " ['destino:UAE/South Korea', 1713000000],\n",
       " ['destino:UAE/Vietnam', 540000000]]"
      ]
     },
     "execution_count": 136,
     "metadata": {},
     "output_type": "execute_result"
    }
   ],
   "source": [
    "ordenamiento(Imp_UAE_totales)\n",
    "Imp_UAE_totales"
   ]
  },
  {
   "cell_type": "code",
   "execution_count": 137,
   "metadata": {},
   "outputs": [
    {
     "data": {
      "text/plain": [
       "Mexico    122\n",
       "Canada     47\n",
       "Japan      17\n",
       "China      15\n",
       "Name: origin, dtype: int64"
      ]
     },
     "execution_count": 137,
     "metadata": {},
     "output_type": "execute_result"
    }
   ],
   "source": [
    "Imp_dest_USA['origin'].value_counts()"
   ]
  },
  {
   "cell_type": "code",
   "execution_count": 138,
   "metadata": {},
   "outputs": [],
   "source": [
    "Imp_USA_totales=[]\n",
    "for i in ['China','Japan','Canada','Mexico']:\n",
    "    Imp_USA_totales.append(['destino:USA/'+i,Imp_dest_USA[Imp_dest_USA['origin'].str.contains(i)]['total_value'].sum()])"
   ]
  },
  {
   "cell_type": "code",
   "execution_count": 139,
   "metadata": {},
   "outputs": [
    {
     "data": {
      "text/plain": [
       "[['destino:USA/Mexico', 2365000000],\n",
       " ['destino:USA/Canada', 569000000],\n",
       " ['destino:USA/Japan', 527000000],\n",
       " ['destino:USA/China', 297000000]]"
      ]
     },
     "execution_count": 139,
     "metadata": {},
     "output_type": "execute_result"
    }
   ],
   "source": [
    "ordenamiento(Imp_USA_totales)\n",
    "Imp_USA_totales"
   ]
  },
  {
   "cell_type": "markdown",
   "metadata": {},
   "source": [
    "### Obtenemos los top 10 en importaciones"
   ]
  },
  {
   "cell_type": "code",
   "execution_count": 141,
   "metadata": {},
   "outputs": [],
   "source": [
    "#De manera similar separamos por primeros , segundos, etc de todos los países destino\n",
    "Imp_primeros=[ \n",
    "    Imp_Can_totales[0],\n",
    "    Imp_China_totales[0],\n",
    "    Imp_Germany_totales[0],\n",
    "    Imp_Thai_totales[0],\n",
    "    Imp_India_totales[0],\n",
    "    Imp_Poland_totales[0],\n",
    "    Imp_Mex_totales[0],\n",
    "    Imp_Jap_totales[0],\n",
    "    Imp_UAE_totales[0],\n",
    "    Imp_USA_totales[0],\n",
    "    Imp_singa_totales[0]\n",
    "]\n",
    "ordenamiento(Imp_primeros)"
   ]
  },
  {
   "cell_type": "code",
   "execution_count": 142,
   "metadata": {},
   "outputs": [
    {
     "data": {
      "text/plain": [
       "[['destino:Thailand/Singapore', 4017000000],\n",
       " ['destino:Mexico/Japan', 3918000000],\n",
       " ['destino:UAE/China', 3357000000],\n",
       " ['destino:Japan/China', 3237000000],\n",
       " ['destino:USA/Mexico', 2365000000],\n",
       " ['destino:Germany/Spain', 2044000000],\n",
       " ['destino:China/Germany', 1328000000],\n",
       " ['destino:Singapore/China', 1267000000],\n",
       " ['destino:India/USA', 1133000000],\n",
       " ['destino:Poland/France', 1030000000],\n",
       " ['destino:Canada/USA', 348000000]]"
      ]
     },
     "execution_count": 142,
     "metadata": {},
     "output_type": "execute_result"
    }
   ],
   "source": [
    "ordenamiento(Imp_primeros)\n",
    "Imp_primeros"
   ]
  },
  {
   "cell_type": "code",
   "execution_count": 143,
   "metadata": {},
   "outputs": [],
   "source": [
    "Imp_segundos=[\n",
    "    Imp_Can_totales[1],\n",
    "    Imp_China_totales[1],\n",
    "    Imp_Germany_totales[1],\n",
    "    Imp_Thai_totales[1],\n",
    "    Imp_India_totales[1],\n",
    "    Imp_Poland_totales[1],\n",
    "    Imp_Mex_totales[1],\n",
    "    Imp_Jap_totales[1],\n",
    "    Imp_UAE_totales[1],\n",
    "    Imp_USA_totales[1],\n",
    "    Imp_singa_totales[1]\n",
    "]\n",
    "ordenamiento(Imp_segundos)"
   ]
  },
  {
   "cell_type": "code",
   "execution_count": 144,
   "metadata": {},
   "outputs": [
    {
     "data": {
      "text/plain": [
       "[['destino:Thailand/China', 3831000000],\n",
       " ['destino:UAE/Japan', 2238000000],\n",
       " ['destino:Mexico/Germany', 1804000000],\n",
       " ['destino:Germany/USA', 1620000000],\n",
       " ['destino:Japan/Mexico', 1143000000],\n",
       " ['destino:India/Russia', 851000000],\n",
       " ['destino:China/Mexico', 590000000],\n",
       " ['destino:Poland/Italy', 588000000],\n",
       " ['destino:USA/Canada', 569000000],\n",
       " ['destino:Canada/Japan', 278000000],\n",
       " ['destino:Singapore/Japan', 171000000]]"
      ]
     },
     "execution_count": 144,
     "metadata": {},
     "output_type": "execute_result"
    }
   ],
   "source": [
    "Imp_segundos"
   ]
  },
  {
   "cell_type": "code",
   "execution_count": 145,
   "metadata": {},
   "outputs": [],
   "source": [
    "Imp_terceros=[\n",
    "    Imp_Can_totales[2],\n",
    "    Imp_China_totales[2],\n",
    "    Imp_Germany_totales[2],\n",
    "    Imp_Thai_totales[2],\n",
    "    Imp_India_totales[2],\n",
    "    Imp_Poland_totales[2],\n",
    "    Imp_Mex_totales[2],\n",
    "    Imp_Jap_totales[2],\n",
    "    Imp_UAE_totales[2],\n",
    "    Imp_USA_totales[2],\n",
    "    Imp_singa_totales[2]\n",
    "]\n",
    "ordenamiento(Imp_terceros)"
   ]
  },
  {
   "cell_type": "code",
   "execution_count": 146,
   "metadata": {},
   "outputs": [
    {
     "data": {
      "text/plain": [
       "[['destino:Thailand/Malaysia', 3482000000],\n",
       " ['destino:UAE/South Korea', 1713000000],\n",
       " ['destino:Mexico/South Korea', 1291000000],\n",
       " ['destino:Japan/Australia', 920000000],\n",
       " ['destino:Germany/South Korea', 738000000],\n",
       " ['destino:Poland/Germany', 570000000],\n",
       " ['destino:India/Germany', 548000000],\n",
       " ['destino:USA/Japan', 527000000],\n",
       " ['destino:China/Brazil', 413000000],\n",
       " ['destino:Canada/United Kingdom', 248000000],\n",
       " ['destino:Singapore/Malaysia', 78000000]]"
      ]
     },
     "execution_count": 146,
     "metadata": {},
     "output_type": "execute_result"
    }
   ],
   "source": [
    "Imp_terceros"
   ]
  },
  {
   "cell_type": "code",
   "execution_count": 147,
   "metadata": {},
   "outputs": [],
   "source": [
    "Imp_cuartos=[\n",
    "    Imp_Can_totales[3],\n",
    "    Imp_China_totales[3],\n",
    "    Imp_Germany_totales[3],\n",
    "    Imp_Thai_totales[3],\n",
    "    Imp_India_totales[3],\n",
    "    #Imp_Poland_totales[3],\n",
    "    Imp_Mex_totales[3],\n",
    "    Imp_Jap_totales[3],\n",
    "    Imp_UAE_totales[3],\n",
    "    Imp_USA_totales[3],\n",
    "    #Imp_singa_totales[3]\n",
    "]\n",
    "ordenamiento(Imp_cuartos)"
   ]
  },
  {
   "cell_type": "code",
   "execution_count": 148,
   "metadata": {},
   "outputs": [
    {
     "data": {
      "text/plain": [
       "[['destino:Thailand/USA', 1568000000],\n",
       " ['destino:Mexico/Spain', 957000000],\n",
       " ['destino:UAE/Vietnam', 540000000],\n",
       " ['destino:Japan/USA', 381000000],\n",
       " ['destino:India/United Arab Emirates', 371000000],\n",
       " ['destino:Germany/Mexico', 345000000],\n",
       " ['destino:USA/China', 297000000],\n",
       " ['destino:China/USA', 241000000],\n",
       " ['destino:Canada/Mexico', 178000000]]"
      ]
     },
     "execution_count": 148,
     "metadata": {},
     "output_type": "execute_result"
    }
   ],
   "source": [
    "Imp_cuartos"
   ]
  },
  {
   "cell_type": "markdown",
   "metadata": {},
   "source": [
    "### Tomando el top 10 de mayores ventas"
   ]
  },
  {
   "cell_type": "code",
   "execution_count": 149,
   "metadata": {},
   "outputs": [],
   "source": [
    "#la lista con el top 10 de importaciones\n",
    "top10_imp=[\n",
    "    Imp_primeros[0],\n",
    "    Imp_primeros[1],\n",
    "    Imp_segundos[0],\n",
    "    Imp_terceros[0],\n",
    "    Imp_primeros[2],\n",
    "    Imp_primeros[3],\n",
    "    Imp_primeros[4],\n",
    "    Imp_segundos[1],\n",
    "    Imp_primeros[5],\n",
    "    Imp_segundos[2]\n",
    "]"
   ]
  },
  {
   "cell_type": "code",
   "execution_count": 150,
   "metadata": {},
   "outputs": [
    {
     "data": {
      "text/plain": [
       "[['destino:Thailand/Singapore', 4017000000],\n",
       " ['destino:Mexico/Japan', 3918000000],\n",
       " ['destino:Thailand/China', 3831000000],\n",
       " ['destino:Thailand/Malaysia', 3482000000],\n",
       " ['destino:UAE/China', 3357000000],\n",
       " ['destino:Japan/China', 3237000000],\n",
       " ['destino:USA/Mexico', 2365000000],\n",
       " ['destino:UAE/Japan', 2238000000],\n",
       " ['destino:Germany/Spain', 2044000000],\n",
       " ['destino:Mexico/Germany', 1804000000]]"
      ]
     },
     "execution_count": 150,
     "metadata": {},
     "output_type": "execute_result"
    }
   ],
   "source": [
    "ordenamiento(top10_imp)\n",
    "top10_imp"
   ]
  },
  {
   "cell_type": "code",
   "execution_count": 151,
   "metadata": {},
   "outputs": [],
   "source": [
    "imp_top_nombres=[];imp_top_valores=[] #de igual manera separamos esta lista para poder graficar.\n",
    "for i in top10_imp:\n",
    "    imp_top_nombres.append(i[0])\n",
    "    imp_top_valores.append(i[1])"
   ]
  },
  {
   "cell_type": "code",
   "execution_count": 236,
   "metadata": {},
   "outputs": [
    {
     "data": {
      "image/png": "[encoded data removed]",
      "text/plain": [
       "<Figure size 720x504 with 1 Axes>"
      ]
     },
     "metadata": {
      "needs_background": "light"
     },
     "output_type": "display_data"
    }
   ],
   "source": [
    "#figure=plt.gcf()\n",
    "plt.figure(figsize=(10,7))\n",
    "plt.barh(imp_top_nombres,imp_top_valores,color='limegreen',left=0)\n",
    "plt.ylabel('Rutas de importación \\n (destino/origen)')\n",
    "plt.xlabel( 'Total de ingresos por ruta \"$\"' )\n",
    "plt.title('Imprtaciónes')\n",
    "#figure.tight_layout() \n",
    "plt.savefig('top10_imp.png',dpi=100,bbox_inches='tight')\n",
    "plt.show()"
   ]
  },
  {
   "cell_type": "markdown",
   "metadata": {},
   "source": [
    "# Opción 2"
   ]
  },
  {
   "cell_type": "code",
   "execution_count": 153,
   "metadata": {},
   "outputs": [
    {
     "data": {
      "text/html": [
       "<div>\n",
       "<style scoped>\n",
       "    .dataframe tbody tr th:only-of-type {\n",
       "        vertical-align: middle;\n",
       "    }\n",
       "\n",
       "    .dataframe tbody tr th {\n",
       "        vertical-align: top;\n",
       "    }\n",
       "\n",
       "    .dataframe thead th {\n",
       "        text-align: right;\n",
       "    }\n",
       "</style>\n",
       "<table border=\"1\" class=\"dataframe\">\n",
       "  <thead>\n",
       "    <tr style=\"text-align: right;\">\n",
       "      <th></th>\n",
       "      <th>register_id</th>\n",
       "      <th>direction</th>\n",
       "      <th>origin</th>\n",
       "      <th>destination</th>\n",
       "      <th>year</th>\n",
       "      <th>date</th>\n",
       "      <th>product</th>\n",
       "      <th>transport_mode</th>\n",
       "      <th>company_name</th>\n",
       "      <th>total_value</th>\n",
       "    </tr>\n",
       "  </thead>\n",
       "  <tbody>\n",
       "    <tr>\n",
       "      <th>0</th>\n",
       "      <td>1</td>\n",
       "      <td>Exports</td>\n",
       "      <td>Japan</td>\n",
       "      <td>China</td>\n",
       "      <td>2015</td>\n",
       "      <td>31/01/15</td>\n",
       "      <td>Cars</td>\n",
       "      <td>Sea</td>\n",
       "      <td>Honda</td>\n",
       "      <td>33000000</td>\n",
       "    </tr>\n",
       "    <tr>\n",
       "      <th>1</th>\n",
       "      <td>2</td>\n",
       "      <td>Exports</td>\n",
       "      <td>Japan</td>\n",
       "      <td>China</td>\n",
       "      <td>2015</td>\n",
       "      <td>01/02/15</td>\n",
       "      <td>Cars</td>\n",
       "      <td>Sea</td>\n",
       "      <td>Honda</td>\n",
       "      <td>16000000</td>\n",
       "    </tr>\n",
       "    <tr>\n",
       "      <th>2</th>\n",
       "      <td>3</td>\n",
       "      <td>Exports</td>\n",
       "      <td>Japan</td>\n",
       "      <td>China</td>\n",
       "      <td>2015</td>\n",
       "      <td>02/02/15</td>\n",
       "      <td>Cars</td>\n",
       "      <td>Sea</td>\n",
       "      <td>Honda</td>\n",
       "      <td>29000000</td>\n",
       "    </tr>\n",
       "    <tr>\n",
       "      <th>3</th>\n",
       "      <td>4</td>\n",
       "      <td>Exports</td>\n",
       "      <td>Japan</td>\n",
       "      <td>China</td>\n",
       "      <td>2015</td>\n",
       "      <td>03/02/15</td>\n",
       "      <td>Cars</td>\n",
       "      <td>Sea</td>\n",
       "      <td>Honda</td>\n",
       "      <td>14000000</td>\n",
       "    </tr>\n",
       "    <tr>\n",
       "      <th>4</th>\n",
       "      <td>5</td>\n",
       "      <td>Exports</td>\n",
       "      <td>Japan</td>\n",
       "      <td>China</td>\n",
       "      <td>2015</td>\n",
       "      <td>04/02/15</td>\n",
       "      <td>Cars</td>\n",
       "      <td>Sea</td>\n",
       "      <td>Honda</td>\n",
       "      <td>17000000</td>\n",
       "    </tr>\n",
       "    <tr>\n",
       "      <th>...</th>\n",
       "      <td>...</td>\n",
       "      <td>...</td>\n",
       "      <td>...</td>\n",
       "      <td>...</td>\n",
       "      <td>...</td>\n",
       "      <td>...</td>\n",
       "      <td>...</td>\n",
       "      <td>...</td>\n",
       "      <td>...</td>\n",
       "      <td>...</td>\n",
       "    </tr>\n",
       "    <tr>\n",
       "      <th>15403</th>\n",
       "      <td>15404</td>\n",
       "      <td>Exports</td>\n",
       "      <td>Netherlands</td>\n",
       "      <td>Belgium</td>\n",
       "      <td>2020</td>\n",
       "      <td>27/06/20</td>\n",
       "      <td>Meat</td>\n",
       "      <td>Road</td>\n",
       "      <td>Dutch Meat Bv</td>\n",
       "      <td>0</td>\n",
       "    </tr>\n",
       "    <tr>\n",
       "      <th>15404</th>\n",
       "      <td>15405</td>\n",
       "      <td>Exports</td>\n",
       "      <td>Netherlands</td>\n",
       "      <td>Belgium</td>\n",
       "      <td>2020</td>\n",
       "      <td>28/06/20</td>\n",
       "      <td>Meat</td>\n",
       "      <td>Road</td>\n",
       "      <td>Dutch Meat Bv</td>\n",
       "      <td>0</td>\n",
       "    </tr>\n",
       "    <tr>\n",
       "      <th>15405</th>\n",
       "      <td>15406</td>\n",
       "      <td>Exports</td>\n",
       "      <td>Netherlands</td>\n",
       "      <td>Belgium</td>\n",
       "      <td>2020</td>\n",
       "      <td>29/06/20</td>\n",
       "      <td>Meat</td>\n",
       "      <td>Road</td>\n",
       "      <td>Dutch Meat Bv</td>\n",
       "      <td>9000</td>\n",
       "    </tr>\n",
       "    <tr>\n",
       "      <th>15406</th>\n",
       "      <td>15407</td>\n",
       "      <td>Exports</td>\n",
       "      <td>Netherlands</td>\n",
       "      <td>Belgium</td>\n",
       "      <td>2020</td>\n",
       "      <td>30/06/20</td>\n",
       "      <td>Meat</td>\n",
       "      <td>Road</td>\n",
       "      <td>Dutch Meat Bv</td>\n",
       "      <td>1000</td>\n",
       "    </tr>\n",
       "    <tr>\n",
       "      <th>15407</th>\n",
       "      <td>15408</td>\n",
       "      <td>Exports</td>\n",
       "      <td>Netherlands</td>\n",
       "      <td>Belgium</td>\n",
       "      <td>2020</td>\n",
       "      <td>01/07/20</td>\n",
       "      <td>Meat</td>\n",
       "      <td>Road</td>\n",
       "      <td>Dutch Meat Bv</td>\n",
       "      <td>4000</td>\n",
       "    </tr>\n",
       "  </tbody>\n",
       "</table>\n",
       "<p>15408 rows × 10 columns</p>\n",
       "</div>"
      ],
      "text/plain": [
       "       register_id direction       origin destination  year      date product  \\\n",
       "0                1   Exports        Japan       China  2015  31/01/15    Cars   \n",
       "1                2   Exports        Japan       China  2015  01/02/15    Cars   \n",
       "2                3   Exports        Japan       China  2015  02/02/15    Cars   \n",
       "3                4   Exports        Japan       China  2015  03/02/15    Cars   \n",
       "4                5   Exports        Japan       China  2015  04/02/15    Cars   \n",
       "...            ...       ...          ...         ...   ...       ...     ...   \n",
       "15403        15404   Exports  Netherlands     Belgium  2020  27/06/20    Meat   \n",
       "15404        15405   Exports  Netherlands     Belgium  2020  28/06/20    Meat   \n",
       "15405        15406   Exports  Netherlands     Belgium  2020  29/06/20    Meat   \n",
       "15406        15407   Exports  Netherlands     Belgium  2020  30/06/20    Meat   \n",
       "15407        15408   Exports  Netherlands     Belgium  2020  01/07/20    Meat   \n",
       "\n",
       "      transport_mode   company_name  total_value  \n",
       "0                Sea          Honda     33000000  \n",
       "1                Sea          Honda     16000000  \n",
       "2                Sea          Honda     29000000  \n",
       "3                Sea          Honda     14000000  \n",
       "4                Sea          Honda     17000000  \n",
       "...              ...            ...          ...  \n",
       "15403           Road  Dutch Meat Bv            0  \n",
       "15404           Road  Dutch Meat Bv            0  \n",
       "15405           Road  Dutch Meat Bv         9000  \n",
       "15406           Road  Dutch Meat Bv         1000  \n",
       "15407           Road  Dutch Meat Bv         4000  \n",
       "\n",
       "[15408 rows x 10 columns]"
      ]
     },
     "execution_count": 153,
     "metadata": {},
     "output_type": "execute_result"
    }
   ],
   "source": [
    "Exports"
   ]
  },
  {
   "cell_type": "code",
   "execution_count": 154,
   "metadata": {},
   "outputs": [],
   "source": [
    "exp_caso2=Exports.groupby('transport_mode')['total_value'].sum() #separamos nuestro DF de exportaciones ordenandolo por el medio de transporte y sumamos sus datos de el valor total\n",
    "#para cada opcion."
   ]
  },
  {
   "cell_type": "code",
   "execution_count": 237,
   "metadata": {},
   "outputs": [
    {
     "data": {
      "image/png": "[encoded data removed]",
      "text/plain": [
       "<Figure size 720x504 with 1 Axes>"
      ]
     },
     "metadata": {
      "needs_background": "light"
     },
     "output_type": "display_data"
    }
   ],
   "source": [
    "plt.figure(figsize=(10,7))\n",
    "exp_caso2.plot.bar(color='coral')\n",
    "plt.ylabel('Total de ingresos para cada medio en exportaciones\"$\"')\n",
    "plt.xlabel('Medio de Transporte')\n",
    "plt.title('Exportaciones')\n",
    "plt.savefig('ingresos_exp_opc2.png',dpi=100,bbox_inches='tight')"
   ]
  },
  {
   "cell_type": "code",
   "execution_count": 156,
   "metadata": {},
   "outputs": [],
   "source": [
    "imp_caso2=Imports.groupby('transport_mode')['total_value'].sum() #Hacemos lo mismo para el DF de importaciones."
   ]
  },
  {
   "cell_type": "code",
   "execution_count": 238,
   "metadata": {},
   "outputs": [
    {
     "data": {
      "image/png": "[encoded data removed]",
      "text/plain": [
       "<Figure size 720x504 with 1 Axes>"
      ]
     },
     "metadata": {
      "needs_background": "light"
     },
     "output_type": "display_data"
    }
   ],
   "source": [
    "plt.figure(figsize=(10,7))\n",
    "imp_caso2.plot.bar(color='orangered')\n",
    "plt.ylabel('Total de ingresos para cada medio en importaciones\"$\"')\n",
    "plt.xlabel('Medio de Transporte')\n",
    "plt.title('Importaciones')\n",
    "plt.savefig('ingresos_imp_opc2.png',dpi=100,bbox_inches='tight')"
   ]
  },
  {
   "cell_type": "code",
   "execution_count": 158,
   "metadata": {},
   "outputs": [],
   "source": [
    "ab=Exports['transport_mode'].value_counts()"
   ]
  },
  {
   "cell_type": "code",
   "execution_count": 159,
   "metadata": {},
   "outputs": [
    {
     "data": {
      "text/plain": [
       "Sea     8434\n",
       "Rail    2780\n",
       "Road    2149\n",
       "Air     2045\n",
       "Name: transport_mode, dtype: int64"
      ]
     },
     "execution_count": 159,
     "metadata": {},
     "output_type": "execute_result"
    }
   ],
   "source": [
    "Exports['transport_mode'].value_counts() #aqui unicamente contabilizamos el numero de uso de cada metodo de transporte y se grafico , esto para la Df de exportaciones"
   ]
  },
  {
   "cell_type": "code",
   "execution_count": 198,
   "metadata": {},
   "outputs": [
    {
     "data": {
      "image/png": "[encoded data removed]",
      "text/plain": [
       "<Figure size 432x288 with 1 Axes>"
      ]
     },
     "metadata": {},
     "output_type": "display_data"
    }
   ],
   "source": [
    "ab.plot.pie(labels=['Sea','Rail','Road','Air'],autopct='%1.1f%%')\n",
    "plt.xlabel('Exportaciones.')\n",
    "plt.savefig('pie_exp.png')\n",
    "plt.show()"
   ]
  },
  {
   "cell_type": "code",
   "execution_count": 161,
   "metadata": {},
   "outputs": [],
   "source": [
    "ba=Imports['transport_mode'].value_counts() #se hace lo mismo para la Df de importaciones"
   ]
  },
  {
   "cell_type": "code",
   "execution_count": 162,
   "metadata": {},
   "outputs": [
    {
     "data": {
      "text/plain": [
       "Sea     2254\n",
       "Rail     601\n",
       "Road     449\n",
       "Air      344\n",
       "Name: transport_mode, dtype: int64"
      ]
     },
     "execution_count": 162,
     "metadata": {},
     "output_type": "execute_result"
    }
   ],
   "source": [
    "Imports['transport_mode'].value_counts()"
   ]
  },
  {
   "cell_type": "code",
   "execution_count": 200,
   "metadata": {},
   "outputs": [
    {
     "data": {
      "image/png": "[encoded data removed]",
      "text/plain": [
       "<Figure size 432x288 with 1 Axes>"
      ]
     },
     "metadata": {},
     "output_type": "display_data"
    }
   ],
   "source": [
    "ba.plot.pie(labels=['Sea','Rail','Road','Air'],autopct='%1.1f%%')\n",
    "plt.xlabel('Importaciones')\n",
    "plt.savefig('pie_imp.png')\n",
    "plt.show()"
   ]
  },
  {
   "cell_type": "markdown",
   "metadata": {},
   "source": [
    "# Opcion 3"
   ]
  },
  {
   "cell_type": "code",
   "execution_count": 164,
   "metadata": {},
   "outputs": [],
   "source": [
    "#Con los DF creados para cada pais de exportaciones , unicamente tomamos la suma de sus valores totales y la dividimos entre la suma de la DF fe exportaciones y le damos un porcentaje \n",
    "#Esto es para las exportaciones.\n",
    "porcentajes=[\n",
    "(Exp_Ori_China['total_value'].sum()/Exports['total_value'].sum())*100,\n",
    "(Exp_Ori_Japan['total_value'].sum()/Exports['total_value'].sum())*100,\n",
    "(Exp_Ori_Netherlands['total_value'].sum()/Exports['total_value'].sum())*100,\n",
    "(Exp_Ori_USA['total_value'].sum()/Exports['total_value'].sum())*100,\n",
    "(Exp_Ori_Germany['total_value'].sum()/Exports['total_value'].sum())*100,\n",
    "(Exp_Ori_South_Korea['total_value'].sum()/Exports['total_value'].sum())*100,\n",
    "(Exp_Ori_Canada['total_value'].sum()/Exports['total_value'].sum())*100,\n",
    "(Exp_Ori_Mexico['total_value'].sum()/Exports['total_value'].sum())*100,\n",
    "(Exp_Ori_Singapore['total_value'].sum()/Exports['total_value'].sum())*100,\n",
    "(Exp_Ori_France['total_value'].sum()/Exports['total_value'].sum())*100,\n",
    "(Exp_Ori_Australia['total_value'].sum()/Exports['total_value'].sum())*100,\n",
    "(Exp_Ori_India['total_value'].sum()/Exports['total_value'].sum())*100,\n",
    "(Exp_Ori_Brazil['total_value'].sum()/Exports['total_value'].sum())*100,\n",
    "(Exp_Ori_Italy['total_value'].sum()/Exports['total_value'].sum())*100,\n",
    "(Exp_Ori_Spain['total_value'].sum()/Exports['total_value'].sum())*100,\n",
    "(Exp_Ori_Russia['total_value'].sum()/Exports['total_value'].sum())*100,\n",
    "(Exp_Ori_Switzerland['total_value'].sum()/Exports['total_value'].sum())*100,\n",
    "(Exp_Ori_Belgium['total_value'].sum()/Exports['total_value'].sum())*100\n",
    "]"
   ]
  },
  {
   "cell_type": "code",
   "execution_count": 165,
   "metadata": {},
   "outputs": [],
   "source": [
    "#creamos una lista con sus nombres para graficar\n",
    "nombres=['CHI',\n",
    "         'JAP',\n",
    "         'NET',\n",
    "         'USA',\n",
    "         'GER',\n",
    "         'S.K',\n",
    "         'CAN',\n",
    "         'MEX',\n",
    "         'SING',\n",
    "         'FRA',\n",
    "         'AUS',\n",
    "         'IND',\n",
    "         'BRA',\n",
    "         'ITA',\n",
    "         'SPA',\n",
    "         'RUS',\n",
    "         'SWI',\n",
    "         'BEL'\n",
    "    \n",
    "]"
   ]
  },
  {
   "cell_type": "code",
   "execution_count": 166,
   "metadata": {},
   "outputs": [
    {
     "data": {
      "text/plain": [
       "82.2704331425543"
      ]
     },
     "execution_count": 166,
     "metadata": {},
     "output_type": "execute_result"
    }
   ],
   "source": [
    "porcentajes[0]+porcentajes[3]+porcentajes[9]+porcentajes[5]+porcentajes[15]+porcentajes[1]+porcentajes[4]+porcentajes[6] #Este es la suma de paises que dan el ochenta por ciento"
   ]
  },
  {
   "cell_type": "code",
   "execution_count": 239,
   "metadata": {},
   "outputs": [
    {
     "data": {
      "image/png": "[encoded data removed]",
      "text/plain": [
       "<Figure size 720x504 with 1 Axes>"
      ]
     },
     "metadata": {
      "needs_background": "light"
     },
     "output_type": "display_data"
    }
   ],
   "source": [
    "plt.figure(figsize=(10,7))\n",
    "plt.bar(nombres,porcentajes,color='silver')\n",
    "plt.ylabel('% de aportación a la ganancia total de exportaciones.')\n",
    "plt.xlabel('Países')\n",
    "plt.title('Exportaciones')\n",
    "plt.savefig('porcnt_exp_opc3.png',dpi=100,bbox_inches='tight')\n",
    "plt.show()"
   ]
  },
  {
   "cell_type": "code",
   "execution_count": 168,
   "metadata": {},
   "outputs": [],
   "source": [
    "#Hacemos lo mismo para el df de importaciones.\n",
    "porc_import=[\n",
    "    (Imp_dest_Thailand['total_value'].sum()/Imports['total_value'].sum())*100,\n",
    "    (Imp_dest_China['total_value'].sum()/Imports['total_value'].sum())*100,\n",
    "    (Imp_dest_Mexico['total_value'].sum()/Imports['total_value'].sum())*100,\n",
    "    (Imp_dest_Japan['total_value'].sum()/Imports['total_value'].sum())*100,\n",
    "    (Imp_dest_Germany['total_value'].sum()/Imports['total_value'].sum())*100,\n",
    "    (Imp_dest_United_Arab_Emirates['total_value'].sum()/Imports['total_value'].sum())*100,\n",
    "    (Imp_dest_Canada['total_value'].sum()/Imports['total_value'].sum())*100,\n",
    "    (Imp_dest_USA['total_value'].sum()/Imports['total_value'].sum())*100,\n",
    "    (Imp_dest_Poland['total_value'].sum()/Imports['total_value'].sum())*100,\n",
    "    (Imp_dest_India['total_value'].sum()/Imports['total_value'].sum())*100,\n",
    "    (Imp_dest_Singapore['total_value'].sum()/Imports['total_value'].sum())*100,\n",
    "]"
   ]
  },
  {
   "cell_type": "code",
   "execution_count": 169,
   "metadata": {},
   "outputs": [],
   "source": [
    "nom_import=[\n",
    "    'ThA',\n",
    "    'CHI',\n",
    "    'MEX',\n",
    "    'JAP',\n",
    "    'GER',\n",
    "    'UAE',\n",
    "    'CAN',\n",
    "    'USA',\n",
    "    'POL',\n",
    "    'IND',\n",
    "    'SING'\n",
    "]"
   ]
  },
  {
   "cell_type": "code",
   "execution_count": 170,
   "metadata": {},
   "outputs": [
    {
     "data": {
      "text/plain": [
       "81.36795850741967"
      ]
     },
     "execution_count": 170,
     "metadata": {},
     "output_type": "execute_result"
    }
   ],
   "source": [
    "porc_import[0]+porc_import[2]+porc_import[5]+porc_import[3]+porc_import[4]+porc_import[7] #Esta es la suma de los paises que dan ochenta por ciento"
   ]
  },
  {
   "cell_type": "code",
   "execution_count": 240,
   "metadata": {},
   "outputs": [
    {
     "data": {
      "image/png": "[encoded data removed]",
      "text/plain": [
       "<Figure size 720x504 with 1 Axes>"
      ]
     },
     "metadata": {
      "needs_background": "light"
     },
     "output_type": "display_data"
    }
   ],
   "source": [
    "plt.figure(figsize=(10,7))\n",
    "plt.bar(nom_import,porc_import,color='grey')\n",
    "plt.ylabel('% de aportación a la ganancia total de importaciones.')\n",
    "plt.xlabel('Paises')\n",
    "plt.title('Importaciones')\n",
    "plt.savefig('prcnt_imp_opc3.png',dpi=100,bbox_inches='tight')\n",
    "plt.show()"
   ]
  },
  {
   "cell_type": "code",
   "execution_count": null,
   "metadata": {},
   "outputs": [],
   "source": []
  }
 ],
 "metadata": {
  "kernelspec": {
   "display_name": "Python 3",
   "language": "python",
   "name": "python3"
  },
  "language_info": {
   "codemirror_mode": {
    "name": "ipython",
    "version": 3
   },
   "file_extension": ".py",
   "mimetype": "text/x-python",
   "name": "python",
   "nbconvert_exporter": "python",
   "pygments_lexer": "ipython3",
   "version": "3.8.1"
  }
 },
 "nbformat": 4,
 "nbformat_minor": 4
}
